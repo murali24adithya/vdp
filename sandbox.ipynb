{
 "cells": [
  {
   "cell_type": "code",
   "execution_count": 162,
   "metadata": {},
   "outputs": [],
   "source": [
    "from glob import glob\n",
    "import vdp\n",
    "import re\n",
    "import numpy as np\n",
    "\n",
    "\n",
    "from vdp.vocabulary import FOSort, FOFunction\n",
    "from vdp.fomodel import FOElement, FOModel\n",
    "from vdp.exceptions import PartialInterpretationException\n",
    "\n",
    "\n",
    "get_name = re.compile(r\"Enter Image Path: .+\\/([^/]+).jpg: Predicted in \\d*\\.?\\d* seconds.\")\n",
    "split_bb = re.compile(r\"Left=(\\d+), Top=(\\d+), Right=(\\d+), Bottom=(\\d+)\")"
   ]
  },
  {
   "cell_type": "code",
   "execution_count": 163,
   "metadata": {},
   "outputs": [],
   "source": [
    "files = glob(\"./vdp_smt/*/*/*train_out.txt\")"
   ]
  },
  {
   "cell_type": "code",
   "execution_count": 164,
   "metadata": {},
   "outputs": [],
   "source": [
    "file = files[0]"
   ]
  },
  {
   "cell_type": "code",
   "execution_count": 165,
   "metadata": {},
   "outputs": [],
   "source": [
    "lines = []\n",
    "with open(file, 'r') as f:\n",
    "    lines = [line.replace(\"\\n\", \"\") for line in f.readlines()]\n",
    "\n",
    "mask = [(\"Image Path\" in line) for line in lines]\n",
    "images = [get_name.match(line).group(1) for idx, line in enumerate(lines) if mask[idx] if \"Predicted\" in line]\n",
    "labels = [(np.where(mask[:idx+1])[0][-1], line) for idx, line in enumerate(lines) if not mask[idx] ]\n"
   ]
  },
  {
   "cell_type": "code",
   "execution_count": 167,
   "metadata": {},
   "outputs": [],
   "source": [
    "predicts = {}\n",
    "\n",
    "for i in range(len(lines)):\n",
    "    if mask[i] and \"Predicted\" in lines[i]:\n",
    "        img_name = get_name.match(lines[i]).group(1)\n",
    "        next_i = i + np.argmax(mask[i+1:])\n",
    "        predicts[img_name] = list(zip(lines[i+1:next_i:2], lines[i+2:next_i:2]))\n",
    "        "
   ]
  },
  {
   "cell_type": "code",
   "execution_count": 383,
   "metadata": {},
   "outputs": [],
   "source": [
    "img = predicts['train_e']\n",
    "img_params = [(*item[0].split(\": \"), *split_bb.findall(item[1].split(\": \")[-1])) for item in img ]"
   ]
  },
  {
   "cell_type": "code",
   "execution_count": 384,
   "metadata": {},
   "outputs": [
    {
     "data": {
      "text/plain": [
       "{('bed', 'bed'): ['labelOf'],\n",
       " ('bed', 'sofa'): ['right', 'above'],\n",
       " ('bed', 'cat'): ['left', 'above'],\n",
       " ('sofa', 'bed'): ['left', 'below'],\n",
       " ('sofa', 'sofa'): ['labelOf'],\n",
       " ('sofa', 'cat'): ['left', 'above'],\n",
       " ('cat', 'bed'): ['right', 'below'],\n",
       " ('cat', 'sofa'): ['right', 'below'],\n",
       " ('cat', 'cat'): ['labelOf']}"
      ]
     },
     "execution_count": 384,
     "metadata": {},
     "output_type": "execute_result"
    }
   ],
   "source": [
    "centroid = lambda bb : ((int(bb[0]) + int(bb[2])) / 2, (int(bb[1]) + int(bb[3])) / 2)\n",
    "\n",
    "\n",
    "def relate(c1, c2): # where is c1 w.r.t c2\n",
    "    x1, y1 = c1\n",
    "    x2, y2 = c2\n",
    "    \n",
    "    return [\"right\" if x1 >= x2 else \"left\", \"above\" if y1 >= y2 else \"below\"]\n",
    "\n",
    "relations = {}\n",
    "for label1, pred1, bb1 in img_params:\n",
    "    for label2, pred2, bb2 in img_params:\n",
    "        if label1 != label2:\n",
    "            c1 = centroid(bb1)\n",
    "            c2 = centroid(bb2)\n",
    "            relations[(label1, label2)] = relate(c1, c2)\n",
    "        else:\n",
    "            relations[(label1, label2)] = ['labelOf']\n",
    "            \n",
    "labels, preds, bbs = zip(*img_params)\n",
    "\n",
    "relations\n"
   ]
  },
  {
   "cell_type": "code",
   "execution_count": 431,
   "metadata": {},
   "outputs": [],
   "source": [
    "vdpobject = FOSort('Object')\n",
    "vdplabel = FOSort('Label')\n",
    "vdpbool = FOSort('Bool')\n"
   ]
  },
  {
   "cell_type": "code",
   "execution_count": 432,
   "metadata": {},
   "outputs": [],
   "source": [
    "vdpconstants = dict()\n",
    "for label in labels:\n",
    "    if label not in vdpconstants:\n",
    "        vdpconstants[label] = FOFunction(label, tuple([vdplabel]))\n",
    "    \n",
    "    \n",
    "unique_labels = list(vdpconstants.keys()) # @TODO REPLACE!!!!\n"
   ]
  },
  {
   "cell_type": "code",
   "execution_count": 461,
   "metadata": {},
   "outputs": [
    {
     "data": {
      "text/plain": [
       "{'labelOf': <vdp.vocabulary.FOFunction at 0x117cd7dd0>}"
      ]
     },
     "execution_count": 461,
     "metadata": {},
     "output_type": "execute_result"
    }
   ],
   "source": [
    "# on = FOFunction('On', (vdpobject, vdpobject, vdpbool))\n",
    "relation_labels = ['left', 'right', 'above', 'below']\n",
    "vdprelations = dict()\n",
    "\n",
    "# for rl in relation_labels:\n",
    "#     vdprelations[rl] = FOFunction(rl, (vdpobject, vdpobject, vdpbool))\n",
    "\n",
    "\n",
    "vdprelations['labelOf'] = FOFunction('labelOf', (vdpobject, vdplabel, vdpbool))\n",
    "vdprelations"
   ]
  },
  {
   "cell_type": "code",
   "execution_count": 462,
   "metadata": {},
   "outputs": [],
   "source": [
    "vdpvocabulary = (set([vdpobject, vdplabel]), set(list(vdpconstants.values()) + list(vdprelations.values())))\n"
   ]
  },
  {
   "cell_type": "code",
   "execution_count": 463,
   "metadata": {},
   "outputs": [],
   "source": [
    "vdpobjects = {label : FOElement(label + \"_object\", vdpobject) for label in labels}\n",
    "vdplabels = {label : FOElement(label + \"_label\", vdplabel) for label in unique_labels}\n",
    "\n",
    "vdpelements = {'Object': set(vdpobjects.values()), 'Label': set(vdplabels.values())}"
   ]
  },
  {
   "cell_type": "code",
   "execution_count": 478,
   "metadata": {},
   "outputs": [
    {
     "data": {
      "text/plain": [
       "{<vdp.vocabulary.FOFunction at 0x117c35850>: <vdp.fomodel.FOElement at 0x117c59150>,\n",
       " <vdp.vocabulary.FOFunction at 0x117c354d0>: <vdp.fomodel.FOElement at 0x117c59d50>,\n",
       " <vdp.vocabulary.FOFunction at 0x117c35710>: <vdp.fomodel.FOElement at 0x117c59b10>}"
      ]
     },
     "execution_count": 478,
     "metadata": {},
     "output_type": "execute_result"
    }
   ],
   "source": [
    "labelconst_interpretation = {const : vdplabels[label] for label, const in zip(unique_labels, list(constants.values()))}\n",
    "labelconst_interpretation"
   ]
  },
  {
   "cell_type": "code",
   "execution_count": 479,
   "metadata": {},
   "outputs": [
    {
     "data": {
      "text/plain": [
       "{<vdp.vocabulary.FOFunction at 0x117cd7dd0>: {(<vdp.fomodel.FOElement at 0x117c59690>,\n",
       "   <vdp.fomodel.FOElement at 0x117c59150>): True,\n",
       "  (<vdp.fomodel.FOElement at 0x117c59690>,\n",
       "   <vdp.fomodel.FOElement at 0x117c59d50>): False,\n",
       "  (<vdp.fomodel.FOElement at 0x117c59690>,\n",
       "   <vdp.fomodel.FOElement at 0x117c59b10>): False,\n",
       "  (<vdp.fomodel.FOElement at 0x117c59050>,\n",
       "   <vdp.fomodel.FOElement at 0x117c59150>): False,\n",
       "  (<vdp.fomodel.FOElement at 0x117c59050>,\n",
       "   <vdp.fomodel.FOElement at 0x117c59d50>): True,\n",
       "  (<vdp.fomodel.FOElement at 0x117c59050>,\n",
       "   <vdp.fomodel.FOElement at 0x117c59b10>): False,\n",
       "  (<vdp.fomodel.FOElement at 0x117c59a50>,\n",
       "   <vdp.fomodel.FOElement at 0x117c59150>): False,\n",
       "  (<vdp.fomodel.FOElement at 0x117c59a50>,\n",
       "   <vdp.fomodel.FOElement at 0x117c59d50>): False,\n",
       "  (<vdp.fomodel.FOElement at 0x117c59a50>,\n",
       "   <vdp.fomodel.FOElement at 0x117c59b10>): True}}"
      ]
     },
     "execution_count": 479,
     "metadata": {},
     "output_type": "execute_result"
    }
   ],
   "source": [
    "\n",
    "    \n",
    "\n",
    "rel_interpretation = dict()\n",
    "# for rel_sym, rel in vdprelations.items():\n",
    "#     if 'labelOf' in rel_sym:\n",
    "#         rel_interpretation[rel] = {(obj, lab) : rel_sym in relations[(obj_sym, lab_sym)]  for obj_sym, obj in vdpobjects.items() for lab_sym, lab in vdplabels.items()}\n",
    "#     else:\n",
    "#         rel_interpretation[rel] = {(obj1, obj2) : rel_sym in relations[(obj1_sym, obj2_sym)]  for obj1_sym, obj1 in vdpobjects.items() for obj2_sym, obj2 in vdpobjects.items() if obj1_sym != obj2_sym}\n",
    "        \n",
    "        \n",
    "rel_interpretation[vdprelations['labelOf']] = {(obj, lab) : 'labelOf' in relations[(obj_sym, lab_sym)]  for obj_sym, obj in vdpobjects.items() for lab_sym, lab in vdplabels.items()}\n",
    "\n",
    "\n",
    "rel_interpretation"
   ]
  },
  {
   "cell_type": "code",
   "execution_count": 485,
   "metadata": {},
   "outputs": [],
   "source": [
    "interpretation = {**labelconst_interpretation, **rel_interpretation}\n"
   ]
  },
  {
   "cell_type": "code",
   "execution_count": 484,
   "metadata": {},
   "outputs": [],
   "source": [
    "model = FOModel(vocabulary, elements, interpretation)\n"
   ]
  },
  {
   "cell_type": "code",
   "execution_count": 483,
   "metadata": {},
   "outputs": [
    {
     "data": {
      "text/plain": [
       "True"
      ]
     },
     "execution_count": 483,
     "metadata": {},
     "output_type": "execute_result"
    }
   ],
   "source": [
    "tst = FOElement('x', vdpobject)\n",
    "model.interpret(term=[vdprelations['labelOf'], [tst], [vdpconstants['cat']]], interpretation_extension={tst: vdpobjects['cat']})"
   ]
  },
  {
   "cell_type": "code",
   "execution_count": null,
   "metadata": {},
   "outputs": [],
   "source": []
  },
  {
   "cell_type": "code",
   "execution_count": null,
   "metadata": {},
   "outputs": [],
   "source": []
  },
  {
   "cell_type": "code",
   "execution_count": null,
   "metadata": {},
   "outputs": [],
   "source": []
  },
  {
   "cell_type": "code",
   "execution_count": null,
   "metadata": {},
   "outputs": [],
   "source": []
  },
  {
   "cell_type": "code",
   "execution_count": null,
   "metadata": {},
   "outputs": [],
   "source": []
  },
  {
   "cell_type": "code",
   "execution_count": null,
   "metadata": {},
   "outputs": [],
   "source": []
  },
  {
   "cell_type": "code",
   "execution_count": null,
   "metadata": {},
   "outputs": [],
   "source": []
  },
  {
   "cell_type": "code",
   "execution_count": null,
   "metadata": {},
   "outputs": [],
   "source": []
  },
  {
   "cell_type": "code",
   "execution_count": null,
   "metadata": {},
   "outputs": [],
   "source": []
  }
 ],
 "metadata": {
  "kernelspec": {
   "display_name": "Python 3",
   "language": "python",
   "name": "python3"
  },
  "language_info": {
   "codemirror_mode": {
    "name": "ipython",
    "version": 3
   },
   "file_extension": ".py",
   "mimetype": "text/x-python",
   "name": "python",
   "nbconvert_exporter": "python",
   "pygments_lexer": "ipython3",
   "version": "3.7.6"
  }
 },
 "nbformat": 4,
 "nbformat_minor": 4
}
