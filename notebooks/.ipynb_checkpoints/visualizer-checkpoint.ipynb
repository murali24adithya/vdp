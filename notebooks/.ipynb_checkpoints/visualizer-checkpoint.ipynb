{
 "cells": [
  {
   "cell_type": "code",
   "execution_count": 1,
   "metadata": {},
   "outputs": [
    {
     "ename": "ModuleNotFoundError",
     "evalue": "No module named 'torch'",
     "output_type": "error",
     "traceback": [
      "\u001b[0;31m---------------------------------------------------------------------------\u001b[0m",
      "\u001b[0;31mModuleNotFoundError\u001b[0m                       Traceback (most recent call last)",
      "\u001b[0;32m<ipython-input-1-ac51c75527ca>\u001b[0m in \u001b[0;36m<module>\u001b[0;34m\u001b[0m\n\u001b[0;32m----> 1\u001b[0;31m \u001b[0;32mimport\u001b[0m \u001b[0mtorch\u001b[0m\u001b[0;34m\u001b[0m\u001b[0;34m\u001b[0m\u001b[0m\n\u001b[0m\u001b[1;32m      2\u001b[0m \u001b[0;32mimport\u001b[0m \u001b[0mjson\u001b[0m\u001b[0;34m\u001b[0m\u001b[0;34m\u001b[0m\u001b[0m\n\u001b[1;32m      3\u001b[0m \u001b[0;32mimport\u001b[0m \u001b[0mh5py\u001b[0m\u001b[0;34m\u001b[0m\u001b[0;34m\u001b[0m\u001b[0m\n\u001b[1;32m      4\u001b[0m \u001b[0;32mimport\u001b[0m \u001b[0mrandom\u001b[0m\u001b[0;34m\u001b[0m\u001b[0;34m\u001b[0m\u001b[0m\n\u001b[1;32m      5\u001b[0m \u001b[0;32mimport\u001b[0m \u001b[0mnumpy\u001b[0m \u001b[0;32mas\u001b[0m \u001b[0mnp\u001b[0m\u001b[0;34m\u001b[0m\u001b[0;34m\u001b[0m\u001b[0m\n",
      "\u001b[0;31mModuleNotFoundError\u001b[0m: No module named 'torch'"
     ]
    }
   ],
   "source": [
    "#import torch\n",
    "import json\n",
    "import h5py\n",
    "import random\n",
    "import numpy as np\n",
    "from matplotlib.pyplot import imshow\n",
    "from PIL import Image, ImageDraw\n",
    "import os\n",
    "from glob import glob\n",
    "parent_path = os.path.abspath(\"./../\")\n",
    "if os.path.basename(parent_path) == 'vdp':\n",
    "    os.chdir(parent_path)"
   ]
  },
  {
   "cell_type": "code",
   "execution_count": 2,
   "metadata": {},
   "outputs": [
    {
     "ename": "NameError",
     "evalue": "name 'glob' is not defined",
     "output_type": "error",
     "traceback": [
      "\u001b[0;31m---------------------------------------------------------------------------\u001b[0m",
      "\u001b[0;31mNameError\u001b[0m                                 Traceback (most recent call last)",
      "\u001b[0;32m<ipython-input-2-5b2eab2c89c7>\u001b[0m in \u001b[0;36m<module>\u001b[0;34m\u001b[0m\n\u001b[1;32m     12\u001b[0m     \u001b[0;32mreturn\u001b[0m \u001b[0mcustom_predictions\u001b[0m\u001b[0;34m,\u001b[0m \u001b[0mcustom_data_infos\u001b[0m\u001b[0;34m\u001b[0m\u001b[0;34m\u001b[0m\u001b[0m\n\u001b[1;32m     13\u001b[0m \u001b[0;34m\u001b[0m\u001b[0m\n\u001b[0;32m---> 14\u001b[0;31m \u001b[0mcustom_predictions\u001b[0m\u001b[0;34m,\u001b[0m \u001b[0mcustom_data_infos\u001b[0m \u001b[0;34m=\u001b[0m \u001b[0mquery_jsons\u001b[0m\u001b[0;34m(\u001b[0m\u001b[0mglob\u001b[0m\u001b[0;34m(\u001b[0m\u001b[0;34m\"./data/sg_processed/*\"\u001b[0m\u001b[0;34m)\u001b[0m\u001b[0;34m)\u001b[0m\u001b[0;34m\u001b[0m\u001b[0;34m\u001b[0m\u001b[0m\n\u001b[0m",
      "\u001b[0;31mNameError\u001b[0m: name 'glob' is not defined"
     ]
    }
   ],
   "source": [
    "def query_jsons(globbed_list):\n",
    "    custom_predictions = dict()\n",
    "    custom_data_infos = dict()\n",
    "    \n",
    "    for path in globbed_list:\n",
    "        for batch in ['test', 'train']:\n",
    "            with open(path + f\"/{batch}/custom_prediction.json\", 'r') as fp:\n",
    "                custom_predictions[(os.path.basename(path), batch)] = json.load(fp)\n",
    "            with open(path + f\"/{batch}/custom_data_info.json\", 'r') as fp:\n",
    "                custom_data_infos[(os.path.basename(path), batch)] = json.load(fp)\n",
    "\n",
    "    return custom_predictions, custom_data_infos\n",
    "\n",
    "custom_predictions, custom_data_infos = query_jsons(glob(\"./data/sg_processed/*\"))"
   ]
  },
  {
   "cell_type": "code",
   "execution_count": null,
   "metadata": {},
   "outputs": [],
   "source": []
  },
  {
   "cell_type": "code",
   "execution_count": 3,
   "metadata": {},
   "outputs": [],
   "source": [
    "def draw_single_box(pic, box, color='red', draw_info=None):\n",
    "    draw = ImageDraw.Draw(pic)\n",
    "    x1,y1,x2,y2 = int(box[0]), int(box[1]), int(box[2]), int(box[3])\n",
    "    draw.rectangle(((x1, y1), (x2, y2)), outline=color)\n",
    "    if draw_info:\n",
    "        draw.rectangle(((x1, y1), (x1+50, y1+10)), fill=color)\n",
    "        info = draw_info\n",
    "        draw.text((x1, y1), info)\n",
    "        \n",
    "def print_list(name, input_list, scores=None):\n",
    "    for i, item in enumerate(input_list):\n",
    "        if scores == None:\n",
    "            print(name + ' ' + str(i) + ': ' + str(item))\n",
    "        else:\n",
    "            print(name + ' ' + str(i) + ': ' + str(item) + '; score: ' + str(scores[i]))\n",
    "    \n",
    "def draw_image(img_path, boxes, box_labels, rel_labels, box_scores=None, rel_scores=None):\n",
    "    size = get_size(Image.open(img_path).size)\n",
    "    pic = Image.open(img_path).resize(size)\n",
    "    num_obj = len(boxes)\n",
    "    for i in range(num_obj):\n",
    "        info = str(i) + '_' + box_labels[i]\n",
    "        draw_single_box(pic, boxes[i], draw_info=info)\n",
    "    display(pic)\n",
    "    print('*' * 50)\n",
    "    print_list('box_labels', box_labels, box_scores)\n",
    "    print('*' * 50)\n",
    "    print_list('rel_labels', rel_labels, rel_scores)\n",
    "    \n",
    "    return None\n",
    "\n",
    "def get_size(image_size):\n",
    "    min_size = 600\n",
    "    max_size = 1000\n",
    "    w, h = image_size\n",
    "    size = min_size\n",
    "    if max_size is not None:\n",
    "        min_original_size = float(min((w, h)))\n",
    "        max_original_size = float(max((w, h)))\n",
    "        if max_original_size / min_original_size * size > max_size:\n",
    "            size = int(round(max_size * min_original_size / max_original_size))\n",
    "    if (w <= h and w == size) or (h <= w and h == size):\n",
    "        return (w, h)\n",
    "    if w < h:\n",
    "        ow = size\n",
    "        oh = int(size * h / w)\n",
    "    else:\n",
    "        oh = size\n",
    "        ow = int(size * w / h)\n",
    "    return (ow, oh)\n",
    "\n",
    "\n",
    "def clean_image_paths(img_list, raw_directory=\"./data/raw/\"):\n",
    "    return [raw_directory + os.path.basename(img_path) for img_path in img_list]\n",
    "        "
   ]
  },
  {
   "cell_type": "code",
   "execution_count": 4,
   "metadata": {},
   "outputs": [
    {
     "ename": "NameError",
     "evalue": "name 'custom_predictions' is not defined",
     "output_type": "error",
     "traceback": [
      "\u001b[0;31m---------------------------------------------------------------------------\u001b[0m",
      "\u001b[0;31mNameError\u001b[0m                                 Traceback (most recent call last)",
      "\u001b[0;32m<ipython-input-4-259e7f9e215d>\u001b[0m in \u001b[0;36m<module>\u001b[0;34m\u001b[0m\n\u001b[0;32m----> 1\u001b[0;31m \u001b[0mlist\u001b[0m\u001b[0;34m(\u001b[0m\u001b[0mcustom_predictions\u001b[0m\u001b[0;34m.\u001b[0m\u001b[0mkeys\u001b[0m\u001b[0;34m(\u001b[0m\u001b[0;34m)\u001b[0m\u001b[0;34m)\u001b[0m\u001b[0;34m\u001b[0m\u001b[0;34m\u001b[0m\u001b[0m\n\u001b[0m",
      "\u001b[0;31mNameError\u001b[0m: name 'custom_predictions' is not defined"
     ]
    }
   ],
   "source": [
    "list(custom_predictions.keys())"
   ]
  },
  {
   "cell_type": "code",
   "execution_count": 5,
   "metadata": {},
   "outputs": [],
   "source": [
    "# parameters\n",
    "\n",
    "def viz(puzzle_name, batch='train', box_topk=20, rel_topk=20):\n",
    "    custom_prediction = custom_predictions[(puzzle_name, batch)]\n",
    "    custom_data_info = custom_data_infos[(puzzle_name, batch)]\n",
    "    ind_to_classes = custom_data_info['ind_to_classes']\n",
    "    ind_to_predicates = custom_data_info['ind_to_predicates']\n",
    "    \n",
    "    for image_idx in range(len(custom_data_info['idx_to_files'])):\n",
    "        print(f\"\\n\\nResults for Image @ idx: {image_idx}\")\n",
    "        image_path = clean_image_paths(custom_data_info['idx_to_files'], raw_directory=f'./data/raw/{puzzle_name}/')[image_idx]\n",
    "        boxes = custom_prediction[str(image_idx)]['bbox'][:box_topk]\n",
    "        box_labels = custom_prediction[str(image_idx)]['bbox_labels'][:box_topk]\n",
    "        box_scores = custom_prediction[str(image_idx)]['bbox_scores'][:box_topk]\n",
    "        all_rel_labels = custom_prediction[str(image_idx)]['rel_labels']\n",
    "        all_rel_scores = custom_prediction[str(image_idx)]['rel_scores']\n",
    "        all_rel_pairs = custom_prediction[str(image_idx)]['rel_pairs']\n",
    "\n",
    "        for i in range(len(box_labels)):\n",
    "            box_labels[i] = ind_to_classes[box_labels[i]]\n",
    "\n",
    "        rel_labels = []\n",
    "        rel_scores = []\n",
    "        for i in range(len(all_rel_pairs)):\n",
    "            if all_rel_pairs[i][0] < box_topk and all_rel_pairs[i][1] < box_topk:\n",
    "                rel_scores.append(all_rel_scores[i])\n",
    "                label = str(all_rel_pairs[i][0]) + '_' + box_labels[all_rel_pairs[i][0]] + ' => ' + ind_to_predicates[all_rel_labels[i]] + ' => ' + str(all_rel_pairs[i][1]) + '_' + box_labels[all_rel_pairs[i][1]]\n",
    "                rel_labels.append(label)\n",
    "\n",
    "        rel_labels = rel_labels[:rel_topk]\n",
    "        rel_scores = rel_scores[:rel_topk]\n",
    "\n",
    "        draw_image(image_path, boxes, box_labels, rel_labels, box_scores=box_scores, rel_scores=rel_scores)\n"
   ]
  },
  {
   "cell_type": "code",
   "execution_count": 6,
   "metadata": {},
   "outputs": [
    {
     "ename": "NameError",
     "evalue": "name 'custom_predictions' is not defined",
     "output_type": "error",
     "traceback": [
      "\u001b[0;31m---------------------------------------------------------------------------\u001b[0m",
      "\u001b[0;31mNameError\u001b[0m                                 Traceback (most recent call last)",
      "\u001b[0;32m<ipython-input-6-64abadae58cf>\u001b[0m in \u001b[0;36m<module>\u001b[0;34m\u001b[0m\n\u001b[0;32m----> 1\u001b[0;31m \u001b[0mviz\u001b[0m\u001b[0;34m(\u001b[0m\u001b[0;34m'alldogsonsofas_abc-23d'\u001b[0m\u001b[0;34m,\u001b[0m \u001b[0;34m'train'\u001b[0m\u001b[0;34m,\u001b[0m \u001b[0;36m20\u001b[0m\u001b[0;34m,\u001b[0m \u001b[0;36m20\u001b[0m\u001b[0;34m)\u001b[0m\u001b[0;34m\u001b[0m\u001b[0;34m\u001b[0m\u001b[0m\n\u001b[0m",
      "\u001b[0;32m<ipython-input-5-8f064c02c0bd>\u001b[0m in \u001b[0;36mviz\u001b[0;34m(puzzle_name, batch, box_topk, rel_topk)\u001b[0m\n\u001b[1;32m      2\u001b[0m \u001b[0;34m\u001b[0m\u001b[0m\n\u001b[1;32m      3\u001b[0m \u001b[0;32mdef\u001b[0m \u001b[0mviz\u001b[0m\u001b[0;34m(\u001b[0m\u001b[0mpuzzle_name\u001b[0m\u001b[0;34m,\u001b[0m \u001b[0mbatch\u001b[0m\u001b[0;34m=\u001b[0m\u001b[0;34m'train'\u001b[0m\u001b[0;34m,\u001b[0m \u001b[0mbox_topk\u001b[0m\u001b[0;34m=\u001b[0m\u001b[0;36m20\u001b[0m\u001b[0;34m,\u001b[0m \u001b[0mrel_topk\u001b[0m\u001b[0;34m=\u001b[0m\u001b[0;36m20\u001b[0m\u001b[0;34m)\u001b[0m\u001b[0;34m:\u001b[0m\u001b[0;34m\u001b[0m\u001b[0;34m\u001b[0m\u001b[0m\n\u001b[0;32m----> 4\u001b[0;31m     \u001b[0mcustom_prediction\u001b[0m \u001b[0;34m=\u001b[0m \u001b[0mcustom_predictions\u001b[0m\u001b[0;34m[\u001b[0m\u001b[0;34m(\u001b[0m\u001b[0mpuzzle_name\u001b[0m\u001b[0;34m,\u001b[0m \u001b[0mbatch\u001b[0m\u001b[0;34m)\u001b[0m\u001b[0;34m]\u001b[0m\u001b[0;34m\u001b[0m\u001b[0;34m\u001b[0m\u001b[0m\n\u001b[0m\u001b[1;32m      5\u001b[0m     \u001b[0mcustom_data_info\u001b[0m \u001b[0;34m=\u001b[0m \u001b[0mcustom_data_infos\u001b[0m\u001b[0;34m[\u001b[0m\u001b[0;34m(\u001b[0m\u001b[0mpuzzle_name\u001b[0m\u001b[0;34m,\u001b[0m \u001b[0mbatch\u001b[0m\u001b[0;34m)\u001b[0m\u001b[0;34m]\u001b[0m\u001b[0;34m\u001b[0m\u001b[0;34m\u001b[0m\u001b[0m\n\u001b[1;32m      6\u001b[0m     \u001b[0mind_to_classes\u001b[0m \u001b[0;34m=\u001b[0m \u001b[0mcustom_data_info\u001b[0m\u001b[0;34m[\u001b[0m\u001b[0;34m'ind_to_classes'\u001b[0m\u001b[0;34m]\u001b[0m\u001b[0;34m\u001b[0m\u001b[0;34m\u001b[0m\u001b[0m\n",
      "\u001b[0;31mNameError\u001b[0m: name 'custom_predictions' is not defined"
     ]
    }
   ],
   "source": [
    "viz('alldogsonsofas_abc-23d', 'train', 20, 20)"
   ]
  },
  {
   "cell_type": "code",
   "execution_count": null,
   "metadata": {},
   "outputs": [],
   "source": [
    "viz('alldogsonsofas_abc-23d', 'test', 20, 20)"
   ]
  },
  {
   "cell_type": "code",
   "execution_count": null,
   "metadata": {},
   "outputs": [],
   "source": []
  },
  {
   "cell_type": "code",
   "execution_count": null,
   "metadata": {},
   "outputs": [],
   "source": []
  },
  {
   "cell_type": "code",
   "execution_count": null,
   "metadata": {},
   "outputs": [],
   "source": []
  },
  {
   "cell_type": "code",
   "execution_count": null,
   "metadata": {},
   "outputs": [],
   "source": []
  },
  {
   "cell_type": "code",
   "execution_count": null,
   "metadata": {},
   "outputs": [],
   "source": []
  },
  {
   "cell_type": "code",
   "execution_count": null,
   "metadata": {},
   "outputs": [],
   "source": []
  },
  {
   "cell_type": "code",
   "execution_count": null,
   "metadata": {},
   "outputs": [],
   "source": []
  },
  {
   "cell_type": "code",
   "execution_count": null,
   "metadata": {},
   "outputs": [],
   "source": []
  },
  {
   "cell_type": "code",
   "execution_count": null,
   "metadata": {},
   "outputs": [],
   "source": []
  },
  {
   "cell_type": "code",
   "execution_count": null,
   "metadata": {},
   "outputs": [],
   "source": []
  }
 ],
 "metadata": {
  "kernelspec": {
   "display_name": "Python 3",
   "language": "python",
   "name": "python3"
  },
  "language_info": {
   "codemirror_mode": {
    "name": "ipython",
    "version": 3
   },
   "file_extension": ".py",
   "mimetype": "text/x-python",
   "name": "python",
   "nbconvert_exporter": "python",
   "pygments_lexer": "ipython3",
   "version": "3.8.3"
  }
 },
 "nbformat": 4,
 "nbformat_minor": 4
}
