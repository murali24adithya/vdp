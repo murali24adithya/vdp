{
 "metadata": {
  "language_info": {
   "codemirror_mode": {
    "name": "ipython",
    "version": 3
   },
   "file_extension": ".py",
   "mimetype": "text/x-python",
   "name": "python",
   "nbconvert_exporter": "python",
   "pygments_lexer": "ipython3",
   "version": "3.8.5-final"
  },
  "orig_nbformat": 2,
  "kernelspec": {
   "name": "python3",
   "display_name": "Python 3.8.5 64-bit ('base': conda)",
   "metadata": {
    "interpreter": {
     "hash": "822ce188d9bce5372c4adbb11364eeb49293228c2224eb55307f4664778e7f56"
    }
   }
  }
 },
 "nbformat": 4,
 "nbformat_minor": 2,
 "cells": [
  {
   "cell_type": "code",
   "execution_count": 4,
   "metadata": {},
   "outputs": [],
   "source": [
    "import os\n",
    "import glob\n",
    "import json\n",
    "import pickle\n",
    "from collections import namedtuple\n",
    "import os\n",
    "import shutil\n",
    "from datetime import datetime\n",
    "\n",
    "\n",
    "def _read_json(path):\n",
    "    with open(path, 'r') as fh:\n",
    "        return json.load(fh)\n",
    "\n",
    "def _to_json(obj, path):\n",
    "    with open(path, 'w') as fh:\n",
    "        return json.dump(obj, fh)\n",
    "\n",
    "def _read_pickle(path):\n",
    "    with open(path, 'rb') as fh:\n",
    "        return pickle.load(fh)\n",
    "\n",
    "def _to_pickle(obj, path):\n",
    "    with open(path, 'wb') as fh:\n",
    "        return pickle.dump(obj, fh, protocol=4)\n",
    "\n",
    "\n",
    "\n",
    "def get_configs(loc=\"./config\"):\n",
    "    for (root, dirs, files) in os.walk(loc):\n",
    "        for f in files:\n",
    "            yield os.path.join(root, f)\n"
   ]
  },
  {
   "cell_type": "code",
   "execution_count": 62,
   "metadata": {},
   "outputs": [
    {
     "output_type": "execute_result",
     "data": {
      "text/plain": [
       "{('2on1', 'train_a'): './data/raw/0.jpg',\n",
       " ('2on1', 'train_b'): './data/raw/1.jpg',\n",
       " ('2on1', 'train_c'): './data/raw/2.jpg'}"
      ]
     },
     "metadata": {},
     "execution_count": 62
    }
   ],
   "source": []
  },
  {
   "cell_type": "code",
   "execution_count": 5,
   "metadata": {
    "tags": []
   },
   "outputs": [],
   "source": [
    "# translate the config files to \"new\" format\n",
    "imgs = dict()\n",
    "\n",
    "def get_id(loc=\"./data/raw/2on1_abe-c123/train_a.jpg\"):\n",
    "    puzzle_name = os.path.basename(os.path.dirname(loc)).split(\"_\")[0]\n",
    "    img_name = os.path.splitext(os.path.basename(loc))[0]\n",
    "    key = (puzzle_name, img_name)\n",
    "    if key not in imgs:\n",
    "        imgs[key] = os.path.join(\"./data/images\", str(len(imgs))) + os.path.splitext(loc)[1]\n",
    "        shutil.copy(\".\" + loc, \".\" + imgs[key])\n",
    "    return imgs[key]\n",
    "\n",
    "\n",
    "\n",
    "def get_configs(loc=\"./config\"):\n",
    "    for (root, dirs, files) in os.walk(loc):\n",
    "        for f in files:\n",
    "            yield os.path.join(root, f)\n",
    "\n",
    "\n",
    "for f in (get_configs(\"../config\")):\n",
    "    # print(f)\n",
    "    conf = _read_json(f)\n",
    "    if \"_\" in os.path.basename(f):\n",
    "        conf['name'] = os.path.splitext(os.path.basename(f))[0]\n",
    "\n",
    "    conf['train'] = list(map(get_id, conf['train']))\n",
    "    conf['test'] = list(map(get_id, conf['test']))\n",
    "\n",
    "\n",
    "    if 'sg_config' in conf:\n",
    "        del conf['sg_config']\n",
    "    if 'partition' in conf:\n",
    "        del conf['partition']\n",
    "    if 'fo_config' in conf:\n",
    "        del conf['fo_config']\n",
    "\n",
    "    _to_json(conf, f)\n",
    "    \n",
    "\n",
    "\n",
    "\n"
   ]
  },
  {
   "cell_type": "code",
   "execution_count": 21,
   "metadata": {},
   "outputs": [
    {
     "output_type": "execute_result",
     "data": {
      "text/plain": [
       "{'name': 'umbrella_abc-135d',\n",
       " 'train': ['./data/raw/umbrella_abc-135d/train_a.jpg',\n",
       "  './data/raw/umbrella_abc-135d/train_c.jpg',\n",
       "  './data/raw/umbrella_abc-135d/train_b.jpg'],\n",
       " 'test': ['./data/raw/umbrella_abc-135d/test_3.jpg',\n",
       "  './data/raw/umbrella_abc-135d/test_d.jpg',\n",
       "  './data/raw/umbrella_abc-135d/test_1.jpg',\n",
       "  './data/raw/umbrella_abc-135d/test_5.jpg'],\n",
       " 'sg_config': {'output_dir': './../data/sg_processed',\n",
       "  'glove_path': './../../checkpoints/glove',\n",
       "  'model_path': './../../checkpoints/model',\n",
       "  'sg_tools_rel_path': './tools/relation_test_net.py',\n",
       "  'sg_config_path': './configs/e2e_relation_X_101_32_8_FPN_1x.yaml',\n",
       "  'cuda_device_port': 0,\n",
       "  'n_proc': 1},\n",
       " 'fo_config': {'input_dir': './data/sg_processed',\n",
       "  'output_dir': './data/sg_ir',\n",
       "  'rel_topk': 20,\n",
       "  'box_topk': 20}}"
      ]
     },
     "metadata": {},
     "execution_count": 21
    }
   ],
   "source": []
  },
  {
   "cell_type": "code",
   "execution_count": 5,
   "metadata": {},
   "outputs": [],
   "source": [
    "for f in (get_configs(\"../config\")):\n",
    "    conf = _read_json(f)\n",
    "    conf['name'] = conf['name'][0]\n",
    "    _to_json(conf, f)\n"
   ]
  },
  {
   "cell_type": "code",
   "execution_count": 92,
   "metadata": {},
   "outputs": [],
   "source": [
    "# // ,\n",
    "\n",
    "# // \"sg_config\": {\n",
    "# //     \"output_dir\": \"./../data/sg_processed\",\n",
    "# //      \"glove_path\": \"./../../checkpoints/glove\", \n",
    "# //      \"model_path\": \"./../../checkpoints/model\", \n",
    "# //      \"sg_tools_rel_path\": \"./tools/relation_test_net.py\", \n",
    "# //      \"sg_config_path\": \"./configs/e2e_relation_X_101_32_8_FPN_1x.yaml\", \n",
    "# //      \"cuda_device_port\": 0, \n",
    "# //      \"n_proc\": 1\n",
    "# //      }, \n",
    "# // \"fo_config\": {\n",
    "# //     \"input_dir\": \"./data/sg_processed\",\n",
    "# //     \"output_dir\": \"./data/sg_ir\",\n",
    "# //     \"rel_topk\": 20,\n",
    "# //     \"box_topk\": 20\n",
    "# //     }"
   ]
  },
  {
   "cell_type": "code",
   "execution_count": 82,
   "metadata": {},
   "outputs": [],
   "source": []
  },
  {
   "cell_type": "code",
   "execution_count": null,
   "metadata": {},
   "outputs": [],
   "source": []
  }
 ]
}