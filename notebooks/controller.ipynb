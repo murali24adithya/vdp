{
 "cells": [
  {
   "cell_type": "code",
   "execution_count": 11,
   "metadata": {},
   "outputs": [],
   "source": [
    "import os\n",
    "import glob\n",
    "parent_path = os.path.abspath(\"./../\")\n",
    "if os.path.basename(parent_path) == 'vdp':\n",
    "    os.chdir(parent_path)\n",
    "import vdp\n",
    "import json"
   ]
  },
  {
   "cell_type": "code",
   "execution_count": 2,
   "metadata": {},
   "outputs": [],
   "source": [
    "vdp_params = vdp.utils.conf(\"config.json\")\n",
    "dry=True"
   ]
  },
  {
   "cell_type": "code",
   "execution_count": 7,
   "metadata": {},
   "outputs": [
    {
     "name": "stdout",
     "output_type": "stream",
     "text": [
      "CUDA_VISIBLE_DEVICES=0 python -m torch.distributed.launch --master_port 10027 --nproc_per_node=1 ./tools/relation_test_net.py --config-file \"./configs/e2e_relation_X_101_32_8_FPN_1x.yaml\" MODEL.ROI_RELATION_HEAD.USE_GT_BOX False MODEL.ROI_RELATION_HEAD.USE_GT_OBJECT_LABEL False MODEL.ROI_RELATION_HEAD.PREDICTOR CausalAnalysisPredictor MODEL.ROI_RELATION_HEAD.CAUSAL.EFFECT_TYPE TDE MODEL.ROI_RELATION_HEAD.CAUSAL.FUSION_TYPE sum  MODEL.ROI_RELATION_HEAD.CAUSAL.CONTEXT_LAYER motifs  TEST.IMS_PER_BATCH 1  DTYPE \"float16\"  GLOVE_DIR ./../../checkpoints/glove MODEL.PRETRAINED_DETECTOR_CKPT ./../../checkpoints/model OUTPUT_DIR ./../../checkpoints/model  TEST.CUSTUM_EVAL True TEST.CUSTUM_PATH ./../data/interim/test/train DETECTED_SGG_DIR ./../data/sg_processed/test > ./../data/sg_processed/test/run.log \n",
      "CUDA_VISIBLE_DEVICES=0 python -m torch.distributed.launch --master_port 10027 --nproc_per_node=1 ./tools/relation_test_net.py --config-file \"./configs/e2e_relation_X_101_32_8_FPN_1x.yaml\" MODEL.ROI_RELATION_HEAD.USE_GT_BOX False MODEL.ROI_RELATION_HEAD.USE_GT_OBJECT_LABEL False MODEL.ROI_RELATION_HEAD.PREDICTOR CausalAnalysisPredictor MODEL.ROI_RELATION_HEAD.CAUSAL.EFFECT_TYPE TDE MODEL.ROI_RELATION_HEAD.CAUSAL.FUSION_TYPE sum  MODEL.ROI_RELATION_HEAD.CAUSAL.CONTEXT_LAYER motifs  TEST.IMS_PER_BATCH 1  DTYPE \"float16\"  GLOVE_DIR ./../../checkpoints/glove MODEL.PRETRAINED_DETECTOR_CKPT ./../../checkpoints/model OUTPUT_DIR ./../../checkpoints/model  TEST.CUSTUM_EVAL True TEST.CUSTUM_PATH ./../data/interim/test/test DETECTED_SGG_DIR ./../data/sg_processed/test > ./../data/sg_processed/test/run.log \n",
      "Done!\n"
     ]
    }
   ],
   "source": [
    "vdp.utils.make_set(vdp_params)\n",
    "name = vdp_params['name']\n",
    "sg_params = vdp_params['sg_config']\n",
    "sg_output_dir = sg_params['output_dir']\n",
    "os.makedirs(sg_output_dir + f\"/{name}\", exist_ok=True)\n",
    "os.chdir(\"./sg\")\n",
    "\n",
    "for batch_dir in ['train', 'test']:\n",
    "        vdp.utils.run_sg(input_path=f\"./../data/interim/{name}/{batch_dir}\",\n",
    "                output_path=f\"./.{sg_output_dir}/{name}\",\n",
    "                glove_path=f\"./.{sg_params['glove_path']}\",\n",
    "                model_path=f\"./.{sg_params['model_path']}\",\n",
    "                log_path=f\"./.{sg_output_dir}/{name}/run.log\",\n",
    "                sg_tools_rel_path=sg_params['sg_tools_rel_path'],\n",
    "                sg_config_path=sg_params['sg_config_path'],\n",
    "                cuda_device_port=sg_params['cuda_device_port'],\n",
    "                n_proc=sg_params['n_proc'],\n",
    "                dry=dry)\n",
    "os.chdir(\"./..\")\n",
    "print(\"Done!\")\n"
   ]
  },
  {
   "cell_type": "code",
   "execution_count": 12,
   "metadata": {},
   "outputs": [],
   "source": [
    "fo_model = vdp.utils.construct_fo(image_idx=0, box_topk=20, rel_topk=20, sg_output_dir=f\"{sg_output_dir}/{name}/\")\n",
    "\n",
    "os.makedirs(f\"./data/processed/{name}/\", exist_ok=True)\n",
    "\n",
    "with open(f\"./data/processed/{name}/fo_model.json\", \"w\") as f:\n",
    "    json.dump(fo_model, f)"
   ]
  },
  {
   "cell_type": "code",
   "execution_count": null,
   "metadata": {},
   "outputs": [],
   "source": []
  }
 ],
 "metadata": {
  "kernelspec": {
   "display_name": "Python 3",
   "language": "python",
   "name": "python3"
  },
  "language_info": {
   "codemirror_mode": {
    "name": "ipython",
    "version": 3
   },
   "file_extension": ".py",
   "mimetype": "text/x-python",
   "name": "python",
   "nbconvert_exporter": "python",
   "pygments_lexer": "ipython3",
   "version": "3.7.6"
  }
 },
 "nbformat": 4,
 "nbformat_minor": 4
}
