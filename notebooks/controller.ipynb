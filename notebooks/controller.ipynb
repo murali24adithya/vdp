{
 "metadata": {
  "language_info": {
   "codemirror_mode": {
    "name": "ipython",
    "version": 3
   },
   "file_extension": ".py",
   "mimetype": "text/x-python",
   "name": "python",
   "nbconvert_exporter": "python",
   "pygments_lexer": "ipython3",
   "version": "3.7.6-final"
  },
  "orig_nbformat": 2,
  "kernelspec": {
   "name": "Python 3.7.6 64-bit ('base': conda)",
   "display_name": "Python 3.7.6 64-bit ('base': conda)",
   "metadata": {
    "interpreter": {
     "hash": "1100737da4a49b8b6c01dd9c4a01ae79ecc5695f08c96e8a316c49928c151188"
    }
   }
  }
 },
 "nbformat": 4,
 "nbformat_minor": 2,
 "cells": [
  {
   "cell_type": "code",
   "execution_count": 1,
   "metadata": {},
   "outputs": [],
   "source": [
    "import os\n",
    "import glob\n",
    "parent_path = os.path.abspath(\"./../\")\n",
    "if os.path.basename(parent_path) == 'vdp':\n",
    "    os.chdir(parent_path)\n",
    "import vdp"
   ]
  },
  {
   "cell_type": "code",
   "execution_count": 14,
   "metadata": {},
   "outputs": [],
   "source": [
    "vdp_params = vdp.utils.conf(\"config.json\")\n",
    "dry=True"
   ]
  },
  {
   "cell_type": "code",
   "execution_count": 17,
   "metadata": {},
   "outputs": [
    {
     "output_type": "error",
     "ename": "FileNotFoundError",
     "evalue": "[Errno 2] No such file or directory: './sg'",
     "traceback": [
      "\u001b[0;31m---------------------------------------------------------------------------\u001b[0m",
      "\u001b[0;31mFileNotFoundError\u001b[0m                         Traceback (most recent call last)",
      "\u001b[0;32m<ipython-input-17-0179ccb0da18>\u001b[0m in \u001b[0;36m<module>\u001b[0;34m\u001b[0m\n\u001b[1;32m      4\u001b[0m \u001b[0msg_output_dir\u001b[0m \u001b[0;34m=\u001b[0m \u001b[0msg_params\u001b[0m\u001b[0;34m[\u001b[0m\u001b[0;34m'output_dir'\u001b[0m\u001b[0;34m]\u001b[0m\u001b[0;34m\u001b[0m\u001b[0;34m\u001b[0m\u001b[0m\n\u001b[1;32m      5\u001b[0m \u001b[0mos\u001b[0m\u001b[0;34m.\u001b[0m\u001b[0mmakedirs\u001b[0m\u001b[0;34m(\u001b[0m\u001b[0msg_output_dir\u001b[0m \u001b[0;34m+\u001b[0m \u001b[0;34mf\"/{name}\"\u001b[0m\u001b[0;34m,\u001b[0m \u001b[0mexist_ok\u001b[0m\u001b[0;34m=\u001b[0m\u001b[0;32mTrue\u001b[0m\u001b[0;34m)\u001b[0m\u001b[0;34m\u001b[0m\u001b[0;34m\u001b[0m\u001b[0m\n\u001b[0;32m----> 6\u001b[0;31m \u001b[0;32mwith\u001b[0m \u001b[0mos\u001b[0m\u001b[0;34m.\u001b[0m\u001b[0mchdir\u001b[0m\u001b[0;34m(\u001b[0m\u001b[0;34m\"./sg\"\u001b[0m\u001b[0;34m)\u001b[0m \u001b[0;32mas\u001b[0m \u001b[0m_\u001b[0m\u001b[0;34m:\u001b[0m\u001b[0;34m\u001b[0m\u001b[0;34m\u001b[0m\u001b[0m\n\u001b[0m\u001b[1;32m      7\u001b[0m     vdp.utils.run_sg(input_path=f\"./../data/interim/{name}/test\",\n\u001b[1;32m      8\u001b[0m             \u001b[0moutput_path\u001b[0m\u001b[0;34m=\u001b[0m\u001b[0;34mf\"./.{sg_output_dir}/{name}\"\u001b[0m\u001b[0;34m,\u001b[0m\u001b[0;34m\u001b[0m\u001b[0;34m\u001b[0m\u001b[0m\n",
      "\u001b[0;31mFileNotFoundError\u001b[0m: [Errno 2] No such file or directory: './sg'"
     ]
    }
   ],
   "source": [
    "vdp.utils.make_set(vdp_params)\n",
    "name = vdp_params['name']\n",
    "sg_params = vdp_params['sg_config']\n",
    "sg_output_dir = sg_params['output_dir']\n",
    "os.makedirs(sg_output_dir + f\"/{name}\", exist_ok=True)\n",
    "with os.chdir(\"./sg\") as _:\n",
    "    vdp.utils.run_sg(input_path=f\"./../data/interim/{name}/test\",\n",
    "            output_path=f\"./.{sg_output_dir}/{name}\",\n",
    "            glove_path=f\"./.{sg_params['glove_path']}\",\n",
    "            model_path=f\"./.{sg_params['model_path']}\",\n",
    "            log_path=f\"./.{sg_output_dir}/{name}/run.log\",\n",
    "            sg_tools_rel_path=sg_params['sg_tools_rel_path'],\n",
    "            sg_config_path=sg_params['sg_config_path'],\n",
    "            cuda_device_port=sg_params['cuda_device_port'],\n",
    "            n_proc=sg_params['n_proc'],\n",
    "            dry=dry)\n",
    "\n",
    "print(\"Done!\")\n",
    "\n",
    "\n",
    "\n",
    "\n"
   ]
  },
  {
   "cell_type": "code",
   "execution_count": null,
   "metadata": {},
   "outputs": [],
   "source": []
  }
 ]
}