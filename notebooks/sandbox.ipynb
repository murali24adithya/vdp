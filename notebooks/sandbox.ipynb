{
 "cells": [
  {
   "cell_type": "markdown",
   "metadata": {},
   "source": [
    "## Imports"
   ]
  },
  {
   "cell_type": "code",
   "execution_count": 1,
   "metadata": {},
   "outputs": [],
   "source": [
    "import os\n",
    "import json\n",
    "\n",
    "parent_path = os.path.abspath(\"./../\")\n",
    "if os.path.basename(parent_path) == 'vdp':\n",
    "    os.chdir(parent_path)\n",
    "\n",
    "from glob import glob\n",
    "import vdp\n",
    "import re\n",
    "import numpy as np\n",
    "\n",
    "\n",
    "from vdp.vocabulary import FOSort, FOFunction\n",
    "from vdp.fomodel import FOElement, FOModel\n",
    "from vdp.exceptions import PartialInterpretationException\n",
    "\n",
    "\n"
   ]
  },
  {
   "cell_type": "markdown",
   "metadata": {},
   "source": [
    "## Generate config.json files"
   ]
  },
  {
   "cell_type": "code",
   "execution_count": 2,
   "metadata": {},
   "outputs": [],
   "source": [
    "# define the scene graph and the fo model generation configs.\n",
    "sgconfig = {\n",
    "\"output_dir\": \"./../data/sg_processed\",\n",
    "\"glove_path\": \"./../../checkpoints/glove\",\n",
    "\"model_path\": \"./../../checkpoints/model\",\n",
    "\"sg_tools_rel_path\": \"./tools/relation_test_net.py\",\n",
    "\"sg_config_path\": \"./configs/e2e_relation_X_101_32_8_FPN_1x.yaml\",\n",
    "\"cuda_device_port\": 0,\n",
    "'n_proc': 1\n",
    "}\n",
    "\n",
    "foconfig = {\n",
    "    \"input_dir\": \"./data/sg_processed\",\n",
    "    \"output_dir\": \"./data/sg_ir\",\n",
    "    \"rel_topk\": 20, \n",
    "    \"box_topk\": 20\n",
    "}"
   ]
  },
  {
   "cell_type": "code",
   "execution_count": 3,
   "metadata": {},
   "outputs": [],
   "source": [
    "# write config files to memory.\n",
    "vdp_puzzles =  glob(\"./data/raw/*\")\n",
    "os.makedirs(\"./config\", exist_ok=True)\n",
    "for folder in vdp_puzzles:\n",
    "    train = glob(folder + \"/train*\")\n",
    "    test  = glob(folder + \"/test*\")\n",
    "    name = os.path.basename(folder)\n",
    "    config = {\n",
    "        'name' : name,\n",
    "        'train' : list(train),\n",
    "        'test' : list(test),\n",
    "        'sg_config' : sgconfig,\n",
    "        'fo_config' : foconfig\n",
    "    }\n",
    "    json.dump(config, open(f\"./config/{name}.json\", 'w'))\n",
    "    \n",
    "\n",
    "    "
   ]
  },
  {
   "cell_type": "markdown",
   "metadata": {},
   "source": [
    "## YOLO $\\to$ IR"
   ]
  },
  {
   "cell_type": "code",
   "execution_count": 24,
   "metadata": {},
   "outputs": [],
   "source": [
    "def yolo_to_ir(yolo_folders, output_folder):\n",
    "    for folder_path in yolo_folders:\n",
    "        name = os.path.basename(folder_path)\n",
    "        output_dir =f\"{output_folder}/{name}\" \n",
    "        os.makedirs(output_dir, exist_ok=True)\n",
    "        fo_models = vdp.utils.get_yolo_fo_models(folder_path)\n",
    "        for batch in ['test', 'train']:\n",
    "            batch_path = f\"{output_dir}/{batch}\"\n",
    "            os.makedirs(batch_path, exist_ok=True)\n",
    "            for img_path, fo_model in fo_models:\n",
    "                if os.path.basename(img_path).split(\"_\")[0] == batch:\n",
    "                    json_name = os.path.basename(img_path).replace('.jpg', '_model.json')\n",
    "                    output_json = f\"{batch_path}/{json_name}\"\n",
    "                    with open(output_json, 'w') as fp:\n",
    "                        json.dump(fo_model, fp, indent=2)\n",
    "\n",
    "\n",
    "yolo_to_ir(glob(\"./vdp_smt/*/*\"), './data/yolo_ir')\n"
   ]
  },
  {
   "cell_type": "markdown",
   "metadata": {},
   "source": [
    "## SGG $\\to$ IR"
   ]
  },
  {
   "cell_type": "code",
   "execution_count": 25,
   "metadata": {},
   "outputs": [
    {
     "name": "stdout",
     "output_type": "stream",
     "text": [
      "alldogsonsofas_abc-23d, train, 3\n",
      "alldogsonsofas_abc-23d, test, 3\n",
      "kitchen_abc-1.12.1e, train, 3\n",
      "kitchen_abc-1.12.1e, test, 3\n",
      "catontv_ab-1.22.1c, train, 2\n",
      "catontv_ab-1.22.1c, test, 3\n",
      "topmost_abc-13e, train, 3\n",
      "topmost_abc-13e, test, 3\n",
      "2on1_abe-c123, train, 3\n",
      "2on1_abe-c123, test, 4\n",
      "sleeping_abc-1.22.2d, train, 3\n",
      "sleeping_abc-1.22.2d, test, 3\n",
      "desktop_abc-1.12.13.1e, train, 3\n",
      "desktop_abc-1.12.13.1e, test, 4\n",
      "populatedbus_abc-1.12.2d, train, 3\n",
      "populatedbus_abc-1.12.2d, test, 3\n",
      "dogherded_abc-1.12.23.1d, train, 3\n",
      "dogherded_abc-1.12.23.1d, test, 4\n",
      "umbrella_abc-135d, train, 3\n",
      "umbrella_abc-135d, test, 4\n",
      "pplandties_abc-1.22.1e, train, 3\n",
      "pplandties_abc-1.22.1e, test, 3\n",
      "parkmeter_abc-234d, train, 3\n",
      "parkmeter_abc-234d, test, 4\n",
      "tvon_abc-13d, train, 3\n",
      "tvon_abc-13d, test, 3\n",
      "diagonal_ab-14c, train, 2\n",
      "diagonal_ab-14c, test, 3\n",
      "pplwearingties_abc-1.12.13.1e, train, 3\n",
      "pplwearingties_abc-1.12.13.1e, test, 4\n",
      "samelevel_ab-17c, train, 2\n",
      "samelevel_ab-17c, test, 3\n",
      "allcatsonsofas_abc-1.12f, train, 3\n",
      "allcatsonsofas_abc-1.12f, test, 3\n",
      "personball_abc-1.22.1d, train, 3\n",
      "personball_abc-1.22.1d, test, 3\n"
     ]
    }
   ],
   "source": [
    "def sgg_to_ir(input_dirs, output_dir, box_topk, rel_topk, raw_img_dir):\n",
    "    \n",
    "    for input_dir in input_dirs:\n",
    "        name = os.path.basename(input_dir)\n",
    "        for batch_dir in ['train', 'test']:\n",
    "            sg_input_dir = input_dir + f\"/{batch_dir}\"\n",
    "            fo_output_dir = output_dir + f\"/{name}/{batch_dir}\"\n",
    "            os.makedirs(fo_output_dir, exist_ok=True)\n",
    "            fo_models = vdp.utils.get_sgg_fo_models(sg_input_dir, box_topk=box_topk, rel_topk=rel_topk, raw_img_dir=raw_img_dir)\n",
    "            print(f\"{name}, {batch_dir}, {len(fo_models)}\")\n",
    "            for img_path, fo_model in fo_models:\n",
    "                output_json = f\"{fo_output_dir}/{os.path.basename(img_path).replace('.jpg', '_model.json')}\"\n",
    "                with open(output_json, 'w') as fp:\n",
    "                    json.dump(fo_model, fp, indent=2)\n",
    "\n",
    "        \n",
    "\n",
    "sgg_to_ir(glob(\"./data/sg_processed/*\"), \"./data/sg_ir\", 20, 20, \"./data/raw\")"
   ]
  },
  {
   "cell_type": "code",
   "execution_count": null,
   "metadata": {},
   "outputs": [],
   "source": []
  },
  {
   "cell_type": "markdown",
   "metadata": {},
   "source": [
    "## IR $\\to$ smt"
   ]
  },
  {
   "cell_type": "code",
   "execution_count": 2,
   "metadata": {},
   "outputs": [
    {
     "data": {
      "text/plain": [
       "{'sorts': ['object', 'label'],\n",
       " 'predicates': {'right': ['object', 'object'],\n",
       "  'above': ['object', 'object'],\n",
       "  'left': ['object', 'object'],\n",
       "  'below': ['object', 'object'],\n",
       "  'within': ['object', 'object'],\n",
       "  'has_label': ['object', 'label']},\n",
       " 'elements': {'object': ['0_sofa', '1_cat'], 'label': ['cat', 'sofa']},\n",
       " 'interpretation': {'right': [['0_sofa', '1_cat']],\n",
       "  'above': [['0_sofa', '1_cat']],\n",
       "  'left': [['1_cat', '0_sofa']],\n",
       "  'below': [['1_cat', '0_sofa']],\n",
       "  'within': [['1_cat', '0_sofa']],\n",
       "  'has_label': [['0_sofa', 'sofa'], ['1_cat', 'cat']]},\n",
       " 'raw': {'rel_labels': [['0', 'sofa', '1', 'cat', 'right', '1.0'],\n",
       "   ['0', 'sofa', '1', 'cat', 'above', '1.0'],\n",
       "   ['1', 'cat', '0', 'sofa', 'left', '1.0'],\n",
       "   ['1', 'cat', '0', 'sofa', 'below', '1.0'],\n",
       "   ['1', 'cat', '0', 'sofa', 'within', '1.0']],\n",
       "  'var_const_map': {'0_sofa': 'sofa', '1_cat': 'cat'},\n",
       "  'scores': [['0_sofa', '1_cat', '1.0'],\n",
       "   ['0_sofa', '1_cat', '1.0'],\n",
       "   ['1_cat', '0_sofa', '1.0'],\n",
       "   ['1_cat', '0_sofa', '1.0'],\n",
       "   ['1_cat', '0_sofa', '1.0']]}}"
      ]
     },
     "execution_count": 2,
     "metadata": {},
     "output_type": "execute_result"
    }
   ],
   "source": [
    "with open(\"./data/yolo_ir/2on1_abc-d123/train/train_a_model.json\", \"r\") as f:\n",
    "    ir = json.load(f)\n",
    "ir"
   ]
  },
  {
   "cell_type": "code",
   "execution_count": 3,
   "metadata": {},
   "outputs": [
    {
     "data": {
      "text/plain": [
       "['cat', 'sofa']"
      ]
     },
     "execution_count": 3,
     "metadata": {},
     "output_type": "execute_result"
    }
   ],
   "source": [
    "vdp_sorts = dict()\n",
    "vdp_constants = dict()\n",
    "\n",
    "assert('label' in ir['sorts'])\n",
    "assert('object' in ir['sorts'])\n",
    "for sort in ir['sorts']:\n",
    "    vdp_sorts[sort] = FOSort(sort)\n",
    "    \n",
    "    \n",
    "    \n",
    "for label in ir['elements']['label']:\n",
    "    if label not in vdp_constants:\n",
    "        vdp_constants[label] = FOFunction(label, tuple([vdp_sorts['label']]))\n",
    "\n",
    "\n",
    "unique_labels = list(ir['elements']['label']) # @TODO REPLACE!!!!\n",
    "unique_labels"
   ]
  },
  {
   "cell_type": "code",
   "execution_count": 4,
   "metadata": {},
   "outputs": [
    {
     "data": {
      "text/plain": [
       "{'right': <vdp.vocabulary.FOFunction at 0x11d67d210>,\n",
       " 'above': <vdp.vocabulary.FOFunction at 0x11d67d190>,\n",
       " 'left': <vdp.vocabulary.FOFunction at 0x11d67d1d0>,\n",
       " 'below': <vdp.vocabulary.FOFunction at 0x11d67d250>,\n",
       " 'within': <vdp.vocabulary.FOFunction at 0x11d67d290>,\n",
       " 'has_label': <vdp.vocabulary.FOFunction at 0x11d67d2d0>}"
      ]
     },
     "execution_count": 4,
     "metadata": {},
     "output_type": "execute_result"
    }
   ],
   "source": [
    "relation_labels = list(ir['predicates'].keys())\n",
    "\n",
    "vdp_relations = dict()\n",
    "\n",
    "for rl in relation_labels:\n",
    "    sig = tuple([*ir['predicates'][rl], 'bool'])\n",
    "    vdp_relations[rl] = FOFunction(rl, sig)\n",
    "\n",
    "\n",
    "vdp_relations\n"
   ]
  },
  {
   "cell_type": "code",
   "execution_count": 5,
   "metadata": {},
   "outputs": [],
   "source": [
    "vdp_vocabulary = (set([vdp_sorts['object'], vdp_sorts['label']]), set(list(vdp_constants.values()) + list(vdp_relations.values())))"
   ]
  },
  {
   "cell_type": "code",
   "execution_count": 6,
   "metadata": {},
   "outputs": [],
   "source": [
    "vdp_vocabulary = (set([vdp_sorts['object'], vdp_sorts['label']]), set(list(vdp_constants.values()) + list(vdp_relations.values())))\n",
    "vdp_objects = {obj : FOElement(obj, vdp_sorts['object']) for obj, lab in ir['interpretation']['has_label']}\n",
    "vdp_labels = {lab : FOElement(lab, vdp_sorts['label']) for obj, lab in ir['interpretation']['has_label']}\n",
    "\n",
    "vdp_elements = {'Object': set(vdp_objects.values()), 'Label': set(vdp_labels.values())}"
   ]
  },
  {
   "cell_type": "code",
   "execution_count": 7,
   "metadata": {},
   "outputs": [
    {
     "data": {
      "text/plain": [
       "{<vdp.vocabulary.FOFunction at 0x11d67f590>: <vdp.fomodel.FOElement at 0x11d68db90>,\n",
       " <vdp.vocabulary.FOFunction at 0x11d67f650>: <vdp.fomodel.FOElement at 0x11d68dbd0>}"
      ]
     },
     "execution_count": 7,
     "metadata": {},
     "output_type": "execute_result"
    }
   ],
   "source": [
    "\n",
    "\n",
    "labelconst_interpretation = {const : vdp_labels[label] for label, const in zip(unique_labels, list(vdp_constants.values()))}\n",
    "labelconst_interpretation"
   ]
  },
  {
   "cell_type": "code",
   "execution_count": 8,
   "metadata": {},
   "outputs": [
    {
     "data": {
      "text/plain": [
       "{'right': <vdp.vocabulary.FOFunction at 0x11d67d210>,\n",
       " 'above': <vdp.vocabulary.FOFunction at 0x11d67d190>,\n",
       " 'left': <vdp.vocabulary.FOFunction at 0x11d67d1d0>,\n",
       " 'below': <vdp.vocabulary.FOFunction at 0x11d67d250>,\n",
       " 'within': <vdp.vocabulary.FOFunction at 0x11d67d290>,\n",
       " 'has_label': <vdp.vocabulary.FOFunction at 0x11d67d2d0>}"
      ]
     },
     "execution_count": 8,
     "metadata": {},
     "output_type": "execute_result"
    }
   ],
   "source": [
    "vdp_relations"
   ]
  },
  {
   "cell_type": "code",
   "execution_count": 9,
   "metadata": {},
   "outputs": [],
   "source": [
    "ir_interpretation = ir['interpretation']\n",
    "rel_interpretation = dict()\n",
    "for rel_sym, rel in vdp_relations.items():\n",
    "    if 'has_label' in rel_sym:\n",
    "        rel_interpretation[rel] = {(obj, lab) : [obj_sym, lab_sym] in ir_interpretation[rel_sym] for obj_sym, obj in vdp_objects.items() for lab_sym, lab in vdp_labels.items()}\n",
    "    else:\n",
    "        rel_interpretation[rel] = {(obj1, obj2) : [obj1_sym, obj2_sym] in ir_interpretation[rel_sym]  for obj1_sym, obj1 in vdp_objects.items() for obj2_sym, obj2 in vdp_objects.items() if obj1_sym != obj2_sym}\n",
    "\n",
    "        \n",
    "vdp_interpretation = {**labelconst_interpretation, **rel_interpretation}\n",
    "model = FOModel(vdp_vocabulary, vdp_elements, vdp_interpretation)\n"
   ]
  },
  {
   "cell_type": "code",
   "execution_count": 10,
   "metadata": {},
   "outputs": [],
   "source": [
    "vdp_interpretation = {**labelconst_interpretation, **rel_interpretation}\n",
    "model = FOModel(vdp_vocabulary, vdp_elements, vdp_interpretation)\n"
   ]
  },
  {
   "cell_type": "code",
   "execution_count": 11,
   "metadata": {},
   "outputs": [],
   "source": [
    "model = FOModel(vdp_vocabulary, vdp_elements, vdp_interpretation)\n"
   ]
  },
  {
   "cell_type": "code",
   "execution_count": 12,
   "metadata": {},
   "outputs": [
    {
     "data": {
      "text/plain": [
       "dict_keys(['0_sofa', '1_cat'])"
      ]
     },
     "execution_count": 12,
     "metadata": {},
     "output_type": "execute_result"
    }
   ],
   "source": [
    "vdp_objects.keys()"
   ]
  },
  {
   "cell_type": "code",
   "execution_count": 13,
   "metadata": {},
   "outputs": [
    {
     "data": {
      "text/plain": [
       "(True, False)"
      ]
     },
     "execution_count": 13,
     "metadata": {},
     "output_type": "execute_result"
    }
   ],
   "source": [
    "# testing\n",
    "tst = FOElement('x', vdp_sorts['object'])\n",
    "cat_is_cat = model.interpret(term=[vdp_relations['has_label'], [tst], [vdp_constants['cat']]], interpretation_extension={tst: vdp_objects['1_cat']})\n",
    "cat_is_sofa = model.interpret(term=[vdp_relations['has_label'], [tst], [vdp_constants['cat']]], interpretation_extension={tst: vdp_objects['0_sofa']})\n",
    "\n",
    "cat_is_cat, cat_is_sofa"
   ]
  },
  {
   "cell_type": "code",
   "execution_count": null,
   "metadata": {},
   "outputs": [],
   "source": []
  },
  {
   "cell_type": "markdown",
   "metadata": {},
   "source": [
    "# Undocument code"
   ]
  },
  {
   "cell_type": "code",
   "execution_count": 7,
   "metadata": {},
   "outputs": [
    {
     "data": {
      "text/plain": [
       "{('bed', 'bed'): ['labelOf'],\n",
       " ('bed', 'sofa'): ['right', 'above'],\n",
       " ('bed', 'cat'): ['left', 'above'],\n",
       " ('sofa', 'bed'): ['left', 'below'],\n",
       " ('sofa', 'sofa'): ['labelOf'],\n",
       " ('sofa', 'cat'): ['left', 'above'],\n",
       " ('cat', 'bed'): ['right', 'below'],\n",
       " ('cat', 'sofa'): ['right', 'below'],\n",
       " ('cat', 'cat'): ['labelOf']}"
      ]
     },
     "execution_count": 7,
     "metadata": {},
     "output_type": "execute_result"
    }
   ],
   "source": [
    "\n",
    "relations = {}\n",
    "for label1, pred1, bb1 in img_params:\n",
    "    for label2, pred2, bb2 in img_params:\n",
    "        if label1 != label2:\n",
    "            c1 = centroid(bb1)\n",
    "            c2 = centroid(bb2)\n",
    "            relations[(label1, label2)] = relate(c1, c2)\n",
    "        else:\n",
    "            relations[(label1, label2)] = ['labelOf']\n",
    "            \n",
    "labels, preds, bbs = zip(*img_params)\n",
    "\n",
    "relations\n"
   ]
  },
  {
   "cell_type": "code",
   "execution_count": 8,
   "metadata": {},
   "outputs": [],
   "source": [
    "vdpobject = FOSort('Object')\n",
    "vdplabel = FOSort('Label')\n",
    "vdpbool = FOSort('Bool')\n"
   ]
  },
  {
   "cell_type": "code",
   "execution_count": 9,
   "metadata": {},
   "outputs": [],
   "source": [
    "vdpconstants = dict()\n",
    "for label in labels:\n",
    "    if label not in vdpconstants:\n",
    "        vdpconstants[label] = FOFunction(label, tuple([vdplabel]))\n",
    "    \n",
    "    \n",
    "unique_labels = list(vdpconstants.keys()) # @TODO REPLACE!!!!\n"
   ]
  },
  {
   "cell_type": "code",
   "execution_count": 103,
   "metadata": {},
   "outputs": [
    {
     "data": {
      "text/plain": [
       "{'0_sofa': <vdp.fomodel.FOElement at 0x11e037410>,\n",
       " '1_cat': <vdp.fomodel.FOElement at 0x11e037c10>}"
      ]
     },
     "execution_count": 103,
     "metadata": {},
     "output_type": "execute_result"
    }
   ],
   "source": [
    "vdp_objects"
   ]
  },
  {
   "cell_type": "code",
   "execution_count": 104,
   "metadata": {},
   "outputs": [
    {
     "data": {
      "text/plain": [
       "True"
      ]
     },
     "execution_count": 104,
     "metadata": {},
     "output_type": "execute_result"
    }
   ],
   "source": []
  },
  {
   "cell_type": "code",
   "execution_count": null,
   "metadata": {},
   "outputs": [],
   "source": []
  },
  {
   "cell_type": "code",
   "execution_count": 10,
   "metadata": {},
   "outputs": [
    {
     "data": {
      "text/plain": [
       "{'left': <vdp.vocabulary.FOFunction at 0x10889af10>,\n",
       " 'right': <vdp.vocabulary.FOFunction at 0x10889a250>,\n",
       " 'above': <vdp.vocabulary.FOFunction at 0x10889ab90>,\n",
       " 'below': <vdp.vocabulary.FOFunction at 0x10889a790>,\n",
       " 'labelOf': <vdp.vocabulary.FOFunction at 0x10889ad10>}"
      ]
     },
     "execution_count": 10,
     "metadata": {},
     "output_type": "execute_result"
    }
   ],
   "source": [
    "# on = FOFunction('On', (vdpobject, vdpobject, vdpbool))\n",
    "relation_labels = ['left', 'right', 'above', 'below']\n",
    "vdprelations = dict()\n",
    "\n",
    "for rl in relation_labels:\n",
    "    vdprelations[rl] = FOFunction(rl, (vdpobject, vdpobject, vdpbool))\n",
    "\n",
    "\n",
    "vdprelations['labelOf'] = FOFunction('labelOf', (vdpobject, vdplabel, vdpbool))\n",
    "vdprelations"
   ]
  },
  {
   "cell_type": "code",
   "execution_count": 11,
   "metadata": {},
   "outputs": [],
   "source": [
    "\n",
    "vdpvocabulary = (set([vdpobject, vdplabel]), set(list(vdpconstants.values()) + list(vdprelations.values())))"
   ]
  },
  {
   "cell_type": "code",
   "execution_count": 12,
   "metadata": {},
   "outputs": [],
   "source": [
    "vdpobjects = {label : FOElement(label + \"_object\", vdpobject) for label in labels}\n",
    "vdplabels = {label : FOElement(label + \"_label\", vdplabel) for label in unique_labels}\n",
    "\n",
    "\n",
    "vdpelements = {'Object': set(vdpobjects.values()), 'Label': set(vdplabels.values())}"
   ]
  },
  {
   "cell_type": "code",
   "execution_count": 13,
   "metadata": {},
   "outputs": [
    {
     "data": {
      "text/plain": [
       "{<vdp.vocabulary.FOFunction at 0x10889a650>: <vdp.fomodel.FOElement at 0x111a026d0>,\n",
       " <vdp.vocabulary.FOFunction at 0x10889a2d0>: <vdp.fomodel.FOElement at 0x111a02810>,\n",
       " <vdp.vocabulary.FOFunction at 0x10889a510>: <vdp.fomodel.FOElement at 0x111a02910>}"
      ]
     },
     "execution_count": 13,
     "metadata": {},
     "output_type": "execute_result"
    }
   ],
   "source": [
    "labelconst_interpretation = {const : vdplabels[label] for label, const in zip(unique_labels, list(vdpconstants.values()))}\n",
    "labelconst_interpretation"
   ]
  },
  {
   "cell_type": "code",
   "execution_count": 14,
   "metadata": {},
   "outputs": [
    {
     "data": {
      "text/plain": [
       "{<vdp.vocabulary.FOFunction at 0x10889ad10>: {(<vdp.fomodel.FOElement at 0x111a02610>,\n",
       "   <vdp.fomodel.FOElement at 0x111a026d0>): True,\n",
       "  (<vdp.fomodel.FOElement at 0x111a02610>,\n",
       "   <vdp.fomodel.FOElement at 0x111a02810>): False,\n",
       "  (<vdp.fomodel.FOElement at 0x111a02610>,\n",
       "   <vdp.fomodel.FOElement at 0x111a02910>): False,\n",
       "  (<vdp.fomodel.FOElement at 0x111a02710>,\n",
       "   <vdp.fomodel.FOElement at 0x111a026d0>): False,\n",
       "  (<vdp.fomodel.FOElement at 0x111a02710>,\n",
       "   <vdp.fomodel.FOElement at 0x111a02810>): True,\n",
       "  (<vdp.fomodel.FOElement at 0x111a02710>,\n",
       "   <vdp.fomodel.FOElement at 0x111a02910>): False,\n",
       "  (<vdp.fomodel.FOElement at 0x111a02790>,\n",
       "   <vdp.fomodel.FOElement at 0x111a026d0>): False,\n",
       "  (<vdp.fomodel.FOElement at 0x111a02790>,\n",
       "   <vdp.fomodel.FOElement at 0x111a02810>): False,\n",
       "  (<vdp.fomodel.FOElement at 0x111a02790>,\n",
       "   <vdp.fomodel.FOElement at 0x111a02910>): True}}"
      ]
     },
     "execution_count": 14,
     "metadata": {},
     "output_type": "execute_result"
    }
   ],
   "source": [
    "\n",
    "    \n",
    "\n",
    "rel_interpretation = dict()\n",
    "# for rel_sym, rel in vdprelations.items():\n",
    "#     if 'labelOf' in rel_sym:\n",
    "#         rel_interpretation[rel] = {(obj, lab) : rel_sym in relations[(obj_sym, lab_sym)]  for obj_sym, obj in vdpobjects.items() for lab_sym, lab in vdplabels.items()}\n",
    "#     else:\n",
    "#         rel_interpretation[rel] = {(obj1, obj2) : rel_sym in relations[(obj1_sym, obj2_sym)]  for obj1_sym, obj1 in vdpobjects.items() for obj2_sym, obj2 in vdpobjects.items() if obj1_sym != obj2_sym}\n",
    "\n",
    "        \n",
    "rel_interpretation[vdprelations['labelOf']] = {(obj, lab) : 'labelOf' in relations[(obj_sym, lab_sym)]  for obj_sym, obj in vdpobjects.items() for lab_sym, lab in vdplabels.items()}\n",
    "\n",
    "\n",
    "rel_interpretation"
   ]
  },
  {
   "cell_type": "code",
   "execution_count": 15,
   "metadata": {},
   "outputs": [],
   "source": [
    "vdpinterpretation = {**labelconst_interpretation, **rel_interpretation}\n"
   ]
  },
  {
   "cell_type": "code",
   "execution_count": 16,
   "metadata": {},
   "outputs": [],
   "source": [
    "model = FOModel(vdpvocabulary, vdpelements, vdpinterpretation)\n"
   ]
  },
  {
   "cell_type": "code",
   "execution_count": 17,
   "metadata": {},
   "outputs": [
    {
     "data": {
      "text/plain": [
       "True"
      ]
     },
     "execution_count": 17,
     "metadata": {},
     "output_type": "execute_result"
    }
   ],
   "source": [
    "tst = FOElement('x', vdpobject)\n",
    "model.interpret(term=[vdprelations['labelOf'], [tst], [vdpconstants['cat']]], interpretation_extension={tst: vdpobjects['cat']})"
   ]
  },
  {
   "cell_type": "code",
   "execution_count": 49,
   "metadata": {},
   "outputs": [],
   "source": []
  },
  {
   "cell_type": "code",
   "execution_count": 52,
   "metadata": {},
   "outputs": [],
   "source": []
  },
  {
   "cell_type": "code",
   "execution_count": null,
   "metadata": {},
   "outputs": [],
   "source": []
  }
 ],
 "metadata": {
  "kernelspec": {
   "display_name": "Python 3",
   "language": "python",
   "name": "python3"
  },
  "language_info": {
   "codemirror_mode": {
    "name": "ipython",
    "version": 3
   },
   "file_extension": ".py",
   "mimetype": "text/x-python",
   "name": "python",
   "nbconvert_exporter": "python",
   "pygments_lexer": "ipython3",
   "version": "3.7.6"
  }
 },
 "nbformat": 4,
 "nbformat_minor": 4
}
