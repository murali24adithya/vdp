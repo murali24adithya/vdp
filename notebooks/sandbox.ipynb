{
 "cells": [
  {
   "cell_type": "markdown",
   "metadata": {},
   "source": [
    "## Imports"
   ]
  },
  {
   "cell_type": "code",
   "execution_count": 1,
   "metadata": {},
   "outputs": [],
   "source": [
    "import os\n",
    "import json\n",
    "\n",
    "parent_path = os.path.abspath(\"./../\")\n",
    "if os.path.basename(parent_path) == 'vdp':\n",
    "    os.chdir(parent_path)\n",
    "\n",
    "from glob import glob\n",
    "import vdp\n",
    "import re\n",
    "import numpy as np\n",
    "\n",
    "\n",
    "from vdp.vocabulary import FOSort, FOFunction\n",
    "from vdp.fomodel import FOElement, FOModel\n",
    "from vdp.exceptions import PartialInterpretationException\n",
    "\n",
    "\n"
   ]
  },
  {
   "cell_type": "markdown",
   "metadata": {},
   "source": [
    "## Generate config.json files"
   ]
  },
  {
   "cell_type": "code",
   "execution_count": 36,
   "metadata": {},
   "outputs": [],
   "source": [
    "# define the scene graph and the fo model generation configs.\n",
    "sgconfig = {\n",
    "\"output_dir\": \"./../data/sg_processed\",\n",
    "\"glove_path\": \"./../../checkpoints/glove\",\n",
    "\"model_path\": \"./../../checkpoints/model\",\n",
    "\"sg_tools_rel_path\": \"./tools/relation_test_net.py\",\n",
    "\"sg_config_path\": \"./configs/e2e_relation_X_101_32_8_FPN_1x.yaml\",\n",
    "\"cuda_device_port\": 0,\n",
    "'n_proc': 1\n",
    "}\n",
    "\n",
    "foconfig = {\n",
    "    \"input_dir\": \"./data/sg_processed\",\n",
    "    \"output_dir\": \"./data/sg_ir\",\n",
    "    \"rel_topk\": 20, \n",
    "    \"box_topk\": 20\n",
    "}"
   ]
  },
  {
   "cell_type": "code",
   "execution_count": 18,
   "metadata": {},
   "outputs": [
    {
     "ename": "NameError",
     "evalue": "name 'sgconfig' is not defined",
     "output_type": "error",
     "traceback": [
      "\u001b[0;31m----------------------------------------------\u001b[0m",
      "\u001b[0;31mNameError\u001b[0m    Traceback (most recent call last)",
      "\u001b[0;32m<ipython-input-18-db09f5acfbd5>\u001b[0m in \u001b[0;36m<module>\u001b[0;34m\u001b[0m\n\u001b[1;32m      9\u001b[0m         \u001b[0;34m'train'\u001b[0m \u001b[0;34m:\u001b[0m \u001b[0mlist\u001b[0m\u001b[0;34m(\u001b[0m\u001b[0mtrain\u001b[0m\u001b[0;34m)\u001b[0m\u001b[0;34m,\u001b[0m\u001b[0;34m\u001b[0m\u001b[0;34m\u001b[0m\u001b[0m\n\u001b[1;32m     10\u001b[0m         \u001b[0;34m'test'\u001b[0m \u001b[0;34m:\u001b[0m \u001b[0mlist\u001b[0m\u001b[0;34m(\u001b[0m\u001b[0mtest\u001b[0m\u001b[0;34m)\u001b[0m\u001b[0;34m,\u001b[0m\u001b[0;34m\u001b[0m\u001b[0;34m\u001b[0m\u001b[0m\n\u001b[0;32m---> 11\u001b[0;31m         \u001b[0;34m'sg_config'\u001b[0m \u001b[0;34m:\u001b[0m \u001b[0msgconfig\u001b[0m\u001b[0;34m,\u001b[0m\u001b[0;34m\u001b[0m\u001b[0;34m\u001b[0m\u001b[0m\n\u001b[0m\u001b[1;32m     12\u001b[0m         \u001b[0;34m'fo_config'\u001b[0m \u001b[0;34m:\u001b[0m \u001b[0mfoconfig\u001b[0m\u001b[0;34m\u001b[0m\u001b[0;34m\u001b[0m\u001b[0m\n\u001b[1;32m     13\u001b[0m     }\n",
      "\u001b[0;31mNameError\u001b[0m: name 'sgconfig' is not defined"
     ]
    }
   ],
   "source": [
    "# write config files to memory.\n",
    "vdp_puzzles =  glob(\"./data/raw/*\")\n",
    "for folder in vdp_puzzles:\n",
    "    train = glob(folder + \"/train*\")\n",
    "    test  = glob(folder + \"/test*\")\n",
    "    name = os.path.basename(folder)\n",
    "    config = {\n",
    "        'name' : name,\n",
    "        'train' : list(train),\n",
    "        'test' : list(test),\n",
    "        'sg_config' : sgconfig,\n",
    "        'fo_config' : foconfig\n",
    "    }\n",
    "    json.dump(config, open(f\"./config/{name}.json\", 'w'))\n",
    "    "
   ]
  },
  {
   "cell_type": "markdown",
   "metadata": {},
   "source": [
    "## YOLO $\\to$ IR"
   ]
  },
  {
   "cell_type": "code",
   "execution_count": 2,
   "metadata": {},
   "outputs": [],
   "source": [
    "def yolo_to_ir(yolo_folders, output_folder):\n",
    "    for folder_path in yolo_folders:\n",
    "        name = os.path.basename(folder_path)\n",
    "        output_dir =f\"{output_folder}/{name}\" \n",
    "        os.makedirs(output_dir, exist_ok=True)\n",
    "        fo_models = vdp.utils.get_yolo_fo_models(folder_path)\n",
    "        \n",
    "        for batch in ['test', 'train']:\n",
    "            batch_path = f\"{output_dir}/{batch}\"\n",
    "            os.makedirs(batch_path, exist_ok=True)\n",
    "            for img_path, fo_model in fo_models:\n",
    "                if os.path.basename(img_path).split(\"_\")[0] == batch:\n",
    "                    json_name = os.path.basename(img_path).replace('.jpg', '_model.json')\n",
    "                    output_json = f\"{batch_path}/{json_name}\"\n",
    "                    with open(output_json, 'w') as fp:\n",
    "                        json.dump(fo_model, fp)\n",
    "\n",
    "\n",
    "yolo_to_ir(glob(\"./vdp_smt/*/*\"), './data/yolo_ir')\n"
   ]
  },
  {
   "cell_type": "markdown",
   "metadata": {},
   "source": [
    "## SGG $\\to$ IR"
   ]
  },
  {
   "cell_type": "code",
   "execution_count": 16,
   "metadata": {},
   "outputs": [],
   "source": [
    "def sgg_to_ir(input_dirs, output_dir, box_topk, rel_topk, raw_img_dir):\n",
    "    \n",
    "    for input_dir in input_dirs:\n",
    "        name = os.path.basename(input_dir)\n",
    "        for batch_dir in ['train', 'test']:\n",
    "            sg_input_dir = input_dir + f\"/{batch_dir}\"\n",
    "            fo_output_dir = output_dir + f\"/{name}/{batch_dir}\"\n",
    "            os.makedirs(fo_output_dir, exist_ok=True)\n",
    "            fo_models = vdp.utils.get_sgg_fo_models(sg_input_dir, box_topk=box_topk, rel_topk=rel_topk, raw_img_dir=raw_img_dir)\n",
    "            \n",
    "            for img_path, fo_model in fo_models:\n",
    "                output_json = f\"{fo_output_dir}/{os.path.basename(img_path).replace('.jpg', '_model.json')}\"\n",
    "                with open(output_json, 'w') as fp:\n",
    "                    json.dump(fo_model, fp)\n",
    "\n",
    "        \n",
    "\n",
    "sgg_to_ir(glob(\"./data/sg_processed/*\"), \"./data/sg_ir\", 20, 20, \"./data/raw\")"
   ]
  },
  {
   "cell_type": "code",
   "execution_count": 10,
   "metadata": {},
   "outputs": [
    {
     "data": {
      "text/plain": [
       "{'sorts': ['object', 'label', 'scores'],\n",
       " 'predicates': {'left_above': '(object, object)',\n",
       "  'right_below': '(object, object)',\n",
       "  'has label': '(object, label)',\n",
       "  'has score': '(object, object, score)'},\n",
       " 'elements': {'object': ['obj_cat', 'obj_sofa'],\n",
       "  'label': ['cat', 'sofa'],\n",
       "  'scores': [0.6272, 0.6272]},\n",
       " 'interpretation': {'left_above': [('obj_sofa', 'obj_cat')],\n",
       "  'right_below': [('obj_cat', 'obj_sofa')],\n",
       "  'has label': [('obj_sofa', 'sofa'), ('obj_cat', 'cat')],\n",
       "  'has score': [('obj_sofa', 'obj_cat', 0.6272),\n",
       "   ('obj_cat', 'obj_sofa', 0.6272)]},\n",
       " 'raw': [['obj', 'sofa', 'obj', 'cat', 'left_above', 0.6272],\n",
       "  ['obj', 'cat', 'obj', 'sofa', 'right_below', 0.6272]]}"
      ]
     },
     "execution_count": 10,
     "metadata": {},
     "output_type": "execute_result"
    }
   ],
   "source": []
  },
  {
   "cell_type": "code",
   "execution_count": 7,
   "metadata": {},
   "outputs": [
    {
     "data": {
      "text/plain": [
       "{('bed', 'bed'): ['labelOf'],\n",
       " ('bed', 'sofa'): ['right', 'above'],\n",
       " ('bed', 'cat'): ['left', 'above'],\n",
       " ('sofa', 'bed'): ['left', 'below'],\n",
       " ('sofa', 'sofa'): ['labelOf'],\n",
       " ('sofa', 'cat'): ['left', 'above'],\n",
       " ('cat', 'bed'): ['right', 'below'],\n",
       " ('cat', 'sofa'): ['right', 'below'],\n",
       " ('cat', 'cat'): ['labelOf']}"
      ]
     },
     "execution_count": 7,
     "metadata": {},
     "output_type": "execute_result"
    }
   ],
   "source": [
    "\n",
    "relations = {}\n",
    "for label1, pred1, bb1 in img_params:\n",
    "    for label2, pred2, bb2 in img_params:\n",
    "        if label1 != label2:\n",
    "            c1 = centroid(bb1)\n",
    "            c2 = centroid(bb2)\n",
    "            relations[(label1, label2)] = relate(c1, c2)\n",
    "        else:\n",
    "            relations[(label1, label2)] = ['labelOf']\n",
    "            \n",
    "labels, preds, bbs = zip(*img_params)\n",
    "\n",
    "relations\n"
   ]
  },
  {
   "cell_type": "code",
   "execution_count": 8,
   "metadata": {},
   "outputs": [],
   "source": [
    "vdpobject = FOSort('Object')\n",
    "vdplabel = FOSort('Label')\n",
    "vdpbool = FOSort('Bool')\n"
   ]
  },
  {
   "cell_type": "code",
   "execution_count": 9,
   "metadata": {},
   "outputs": [],
   "source": [
    "vdpconstants = dict()\n",
    "for label in labels:\n",
    "    if label not in vdpconstants:\n",
    "        vdpconstants[label] = FOFunction(label, tuple([vdplabel]))\n",
    "    \n",
    "    \n",
    "unique_labels = list(vdpconstants.keys()) # @TODO REPLACE!!!!\n"
   ]
  },
  {
   "cell_type": "code",
   "execution_count": 10,
   "metadata": {},
   "outputs": [
    {
     "data": {
      "text/plain": [
       "{'left': <vdp.vocabulary.FOFunction at 0x10889af10>,\n",
       " 'right': <vdp.vocabulary.FOFunction at 0x10889a250>,\n",
       " 'above': <vdp.vocabulary.FOFunction at 0x10889ab90>,\n",
       " 'below': <vdp.vocabulary.FOFunction at 0x10889a790>,\n",
       " 'labelOf': <vdp.vocabulary.FOFunction at 0x10889ad10>}"
      ]
     },
     "execution_count": 10,
     "metadata": {},
     "output_type": "execute_result"
    }
   ],
   "source": [
    "# on = FOFunction('On', (vdpobject, vdpobject, vdpbool))\n",
    "relation_labels = ['left', 'right', 'above', 'below']\n",
    "vdprelations = dict()\n",
    "\n",
    "for rl in relation_labels:\n",
    "    vdprelations[rl] = FOFunction(rl, (vdpobject, vdpobject, vdpbool))\n",
    "\n",
    "\n",
    "vdprelations['labelOf'] = FOFunction('labelOf', (vdpobject, vdplabel, vdpbool))\n",
    "vdprelations"
   ]
  },
  {
   "cell_type": "code",
   "execution_count": 11,
   "metadata": {},
   "outputs": [],
   "source": [
    "vdpvocabulary = (set([vdpobject, vdplabel]), set(list(vdpconstants.values()) + list(vdprelations.values())))\n"
   ]
  },
  {
   "cell_type": "code",
   "execution_count": 12,
   "metadata": {},
   "outputs": [],
   "source": [
    "vdpobjects = {label : FOElement(label + \"_object\", vdpobject) for label in labels}\n",
    "vdplabels = {label : FOElement(label + \"_label\", vdplabel) for label in unique_labels}\n",
    "\n",
    "vdpelements = {'Object': set(vdpobjects.values()), 'Label': set(vdplabels.values())}"
   ]
  },
  {
   "cell_type": "code",
   "execution_count": 13,
   "metadata": {},
   "outputs": [
    {
     "data": {
      "text/plain": [
       "{<vdp.vocabulary.FOFunction at 0x10889a650>: <vdp.fomodel.FOElement at 0x111a026d0>,\n",
       " <vdp.vocabulary.FOFunction at 0x10889a2d0>: <vdp.fomodel.FOElement at 0x111a02810>,\n",
       " <vdp.vocabulary.FOFunction at 0x10889a510>: <vdp.fomodel.FOElement at 0x111a02910>}"
      ]
     },
     "execution_count": 13,
     "metadata": {},
     "output_type": "execute_result"
    }
   ],
   "source": [
    "labelconst_interpretation = {const : vdplabels[label] for label, const in zip(unique_labels, list(vdpconstants.values()))}\n",
    "labelconst_interpretation"
   ]
  },
  {
   "cell_type": "code",
   "execution_count": 14,
   "metadata": {},
   "outputs": [
    {
     "data": {
      "text/plain": [
       "{<vdp.vocabulary.FOFunction at 0x10889ad10>: {(<vdp.fomodel.FOElement at 0x111a02610>,\n",
       "   <vdp.fomodel.FOElement at 0x111a026d0>): True,\n",
       "  (<vdp.fomodel.FOElement at 0x111a02610>,\n",
       "   <vdp.fomodel.FOElement at 0x111a02810>): False,\n",
       "  (<vdp.fomodel.FOElement at 0x111a02610>,\n",
       "   <vdp.fomodel.FOElement at 0x111a02910>): False,\n",
       "  (<vdp.fomodel.FOElement at 0x111a02710>,\n",
       "   <vdp.fomodel.FOElement at 0x111a026d0>): False,\n",
       "  (<vdp.fomodel.FOElement at 0x111a02710>,\n",
       "   <vdp.fomodel.FOElement at 0x111a02810>): True,\n",
       "  (<vdp.fomodel.FOElement at 0x111a02710>,\n",
       "   <vdp.fomodel.FOElement at 0x111a02910>): False,\n",
       "  (<vdp.fomodel.FOElement at 0x111a02790>,\n",
       "   <vdp.fomodel.FOElement at 0x111a026d0>): False,\n",
       "  (<vdp.fomodel.FOElement at 0x111a02790>,\n",
       "   <vdp.fomodel.FOElement at 0x111a02810>): False,\n",
       "  (<vdp.fomodel.FOElement at 0x111a02790>,\n",
       "   <vdp.fomodel.FOElement at 0x111a02910>): True}}"
      ]
     },
     "execution_count": 14,
     "metadata": {},
     "output_type": "execute_result"
    }
   ],
   "source": [
    "\n",
    "    \n",
    "\n",
    "rel_interpretation = dict()\n",
    "# for rel_sym, rel in vdprelations.items():\n",
    "#     if 'labelOf' in rel_sym:\n",
    "#         rel_interpretation[rel] = {(obj, lab) : rel_sym in relations[(obj_sym, lab_sym)]  for obj_sym, obj in vdpobjects.items() for lab_sym, lab in vdplabels.items()}\n",
    "#     else:\n",
    "#         rel_interpretation[rel] = {(obj1, obj2) : rel_sym in relations[(obj1_sym, obj2_sym)]  for obj1_sym, obj1 in vdpobjects.items() for obj2_sym, obj2 in vdpobjects.items() if obj1_sym != obj2_sym}\n",
    "\n",
    "        \n",
    "rel_interpretation[vdprelations['labelOf']] = {(obj, lab) : 'labelOf' in relations[(obj_sym, lab_sym)]  for obj_sym, obj in vdpobjects.items() for lab_sym, lab in vdplabels.items()}\n",
    "\n",
    "\n",
    "rel_interpretation"
   ]
  },
  {
   "cell_type": "code",
   "execution_count": 15,
   "metadata": {},
   "outputs": [],
   "source": [
    "vdpinterpretation = {**labelconst_interpretation, **rel_interpretation}\n"
   ]
  },
  {
   "cell_type": "code",
   "execution_count": 16,
   "metadata": {},
   "outputs": [],
   "source": [
    "model = FOModel(vdpvocabulary, vdpelements, vdpinterpretation)\n"
   ]
  },
  {
   "cell_type": "code",
   "execution_count": 17,
   "metadata": {},
   "outputs": [
    {
     "data": {
      "text/plain": [
       "True"
      ]
     },
     "execution_count": 17,
     "metadata": {},
     "output_type": "execute_result"
    }
   ],
   "source": [
    "tst = FOElement('x', vdpobject)\n",
    "model.interpret(term=[vdprelations['labelOf'], [tst], [vdpconstants['cat']]], interpretation_extension={tst: vdpobjects['cat']})"
   ]
  },
  {
   "cell_type": "code",
   "execution_count": 49,
   "metadata": {},
   "outputs": [],
   "source": []
  },
  {
   "cell_type": "code",
   "execution_count": 52,
   "metadata": {},
   "outputs": [],
   "source": []
  },
  {
   "cell_type": "code",
   "execution_count": null,
   "metadata": {},
   "outputs": [],
   "source": []
  }
 ],
 "metadata": {
  "kernelspec": {
   "display_name": "Python 3",
   "language": "python",
   "name": "python3"
  },
  "language_info": {
   "codemirror_mode": {
    "name": "ipython",
    "version": 3
   },
   "file_extension": ".py",
   "mimetype": "text/x-python",
   "name": "python",
   "nbconvert_exporter": "python",
   "pygments_lexer": "ipython3",
   "version": "3.7.6"
  }
 },
 "nbformat": 4,
 "nbformat_minor": 4
}
