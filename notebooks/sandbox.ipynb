{
 "cells": [
  {
   "cell_type": "markdown",
   "metadata": {},
   "source": [
    "## Imports"
   ]
  },
  {
   "cell_type": "code",
   "execution_count": 1,
   "metadata": {},
   "outputs": [],
   "source": [
    "import os\n",
    "\n",
    "parent_path = os.path.abspath(\"./../\")\n",
    "if os.path.basename(parent_path) == 'vdp':\n",
    "    os.chdir(parent_path)\n",
    "\n",
    "from glob import glob\n",
    "import vdp\n",
    "import re\n",
    "import numpy as np\n",
    "\n",
    "\n",
    "from vdp.vocabulary import FOSort, FOFunction\n",
    "from vdp.fomodel import FOElement, FOModel\n",
    "from vdp.exceptions import PartialInterpretationException\n",
    "\n",
    "\n"
   ]
  },
  {
   "cell_type": "markdown",
   "metadata": {},
   "source": [
    "## Generate config.json files"
   ]
  },
  {
   "cell_type": "code",
   "execution_count": 63,
   "metadata": {},
   "outputs": [],
   "source": [
    "# relative to\n",
    "sgconfig = {\n",
    " 'output_dir': './../data/sg_processed',\n",
    " 'glove_path': './../../checkpoints/glove',\n",
    " 'model_path': './../../checkpoints/model',\n",
    " 'sg_tools_rel_path': './tools/relation_test_net.py',\n",
    " 'sg_config_path': './configs/e2e_relation_X_101_32_8_FPN_1x.yaml',\n",
    " 'cuda_device_port': 0,\n",
    " 'n_proc': 1\n",
    "}\n",
    "\n",
    "foconfig = {\n",
    " \"input_dir\" : \"./data/sg_processed\",\n",
    " \"output_dir\" : \"./data/fo_models\",\n",
    " \"rel_topk\" : 20,\n",
    " \"box_topk\" : 20\n",
    "}\n"
   ]
  },
  {
   "cell_type": "code",
   "execution_count": 64,
   "metadata": {},
   "outputs": [],
   "source": [
    "\n",
    "vdp_puzzles =  glob(\"./data/raw/*\")\n",
    "for folder in vdp_puzzles:\n",
    "    train = glob(folder + \"/train*\")\n",
    "    test  = glob(folder + \"/test*\")\n",
    "    name = os.path.basename(folder)\n",
    "    config = {\n",
    "        'name' : name,\n",
    "        'train' : list(train),\n",
    "        'test' : list(test),\n",
    "        'sg_config' : sgconfig,\n",
    "        'fo_config' : foconfig\n",
    "    }\n",
    "    json.dump(config, open(f\"./config/{name}.json\", 'w'))\n",
    "    "
   ]
  },
  {
   "cell_type": "markdown",
   "metadata": {},
   "source": [
    "Random stuff"
   ]
  },
  {
   "cell_type": "code",
   "execution_count": 2,
   "metadata": {},
   "outputs": [
    {
     "data": {
      "text/plain": [
       "'./vdp_smt/2on1/2on1_ace-b123'"
      ]
     },
     "execution_count": 2,
     "metadata": {},
     "output_type": "execute_result"
    }
   ],
   "source": [
    "all_puzzles_paths = glob(\"./vdp_smt/*/*\")\n",
    "all_puzzles_paths[0]"
   ]
  },
  {
   "cell_type": "code",
   "execution_count": 4,
   "metadata": {},
   "outputs": [],
   "source": [
    "# def read_normalized_input(train_path, test_path):\n",
    "#     train_test_predicts = []\n",
    "#     for file_path in [train_path, test_path]:\n",
    "#         lines = []\n",
    "#         predicts = {}\n",
    "#         with open(file_path, 'r') as f:\n",
    "#             lines = [line.replace(\"\\n\", \"\") for line in f.readlines()]\n",
    "\n",
    "#         mask = [(\"Image Path\" in line) for line in lines]\n",
    "#         images = [get_name.match(line).group(1) for idx, line in enumerate(lines) if mask[idx] if \"Predicted\" in line]\n",
    "#         labels = [(np.where(mask[:idx+1])[0][-1], line) for idx, line in enumerate(lines) if not mask[idx] ]\n",
    "#         for i in range(len(lines)):\n",
    "#             if mask[i] and \"Predicted\" in lines[i]:\n",
    "#                 img_name = get_name.match(lines[i]).group(1)\n",
    "#                 next_i = i + np.argmax(mask[i+1:])\n",
    "#                 predicts[img_name] = list(zip(lines[i+1:next_i:2], lines[i+2:next_i:2]))\n",
    "        \n",
    "#         train_test_predicts.append(predicts)\n",
    "        \n",
    "#     return {**train_test_predicts[0], **train_test_predicts[1]}\n",
    "\n",
    "\n",
    "# # for puzzle in all_puzzles_paths:\n",
    "# #     train_path = puzzle + \"/\" + os.path.basename(puzzle) + \"_train_out.txt\"\n",
    "# #     test_path = puzzle + \"/\" + os.path.basename(puzzle) + \"_test_out.txt\"\n",
    "# #     yolo_output = (read_normalized_input(train_path, test_path))\n",
    "# #     for img_name, img in yolo_output.items():\n",
    "# #         img_params = [(*item[0].split(\": \"), *split_bb.findall(item[1].split(\": \")[-1])) for item in img ]\n",
    "# #         print(img_name, img)\n",
    "# #         print(img_params)\n",
    "# #         print()\n",
    "    \n",
    "# # #     break\n",
    "\n",
    "file_path = './vdp_smt/2on1/2on1_ace-b123/2on1_ace-b123_train_out.txt'\n",
    "\n",
    "\n",
    "extract_img = re.compile(r\"Enter Image Path: .+\\/([^/]+).jpg: Predicted in \\d*\\.?\\d* seconds.\")\n",
    "extract_bb = re.compile(r\"Bounding Box: Left=(\\d+), Top=(\\d+), Right=(\\d+), Bottom=(\\d+)\")\n",
    "\n",
    "process_img = lambda line: extract_img.search(line).groups()\n",
    "process_obj = lambda line: line.replace(\"%\", \"\").split(\": \")\n",
    "process_bb  = lambda line: extract_bb.search(line).groups()\n"
   ]
  },
  {
   "cell_type": "code",
   "execution_count": 74,
   "metadata": {},
   "outputs": [
    {
     "name": "stdout",
     "output_type": "stream",
     "text": [
      "./vdp_smt/2on1/2on1_ace-b123\n",
      "./data/yolo_processed/2on1_ace-b123\n"
     ]
    }
   ],
   "source": [
    "rx_dict = {\n",
    "    'start' : re.compile(r\"Enter Image Path: .+\\/(?P<name>[^/]+).jpg: Predicted in \\d*\\.?\\d* seconds.\\n\"),\n",
    "    'obj' : re.compile(r\"(?P<obj>\\w+): (?P<score>\\d+)%\\n\"),\n",
    "    'bb' : re.compile(r\"Bounding Box: Left=(?P<left>\\d+), Top=(?P<top>\\d+), Right=(?P<right>\\d+), Bottom=(?P<bottom>\\d+)\")\n",
    "}\n",
    "\n",
    "\n",
    "def _parse_line(line):\n",
    "    for key, rx in rx_dict.items():\n",
    "        match = rx.search(line)\n",
    "        if match:\n",
    "            return (key, match)\n",
    "    return (None, None)\n",
    "\n",
    "\n",
    "def _parse_file(file_path):\n",
    "    data = list()\n",
    "    \n",
    "    with open(file_path, 'r') as fp:\n",
    "        line = fp.readline()\n",
    "        while 'Predicted' in line:\n",
    "            key, match = _parse_line(line)\n",
    "            name = match.group('name')\n",
    "            img_line = fp.readline()\n",
    "            img_data = dict()\n",
    "            objs = list()\n",
    "            while img_line and 'Predicted' not in img_line:       \n",
    "                key, match = _parse_line(img_line)\n",
    "                if key == 'obj':\n",
    "                    objs.append((match.group('obj'), float(match.group('score'))))\n",
    "\n",
    "                if key == 'bb':\n",
    "                    bb = (match.group('left'), match.group('top'), match.group('bottom'), match.group('right'))\n",
    "                    img_data = {**img_data, **{obj : {'score' : score, 'bb' : bb} for obj, score in objs}}\n",
    "                    objs = list()\n",
    "                \n",
    "                img_line = fp.readline()\n",
    "            \n",
    "            data.append((name, img_data))\n",
    "            line = img_line\n",
    "    return data\n",
    "\n",
    "\n",
    "\n",
    "\n",
    "\n",
    "def parse(yolo_folders, output_folder):\n",
    "    for folder_path in yolo_folders:\n",
    "        print(folder_path)\n",
    "        name = os.path.basename(folder_path)\n",
    "        output_dir =f\"{output_folder}/{name}\" \n",
    "        print(output_dir)\n",
    "#         os.makedirs(output_dir, exist_ok=True)\n",
    "        train_path = folder_path + \"/\" + name + \"_train_out.txt\"\n",
    "        test_path = folder_path + \"/\" + name + \"_test_out.txt\"\n",
    "        data = {name : [*_parse_file(train_path), *_parse_file(test_path)]}\n",
    "        break\n",
    "\n",
    "    return data\n",
    "\n",
    "data = parse(glob(\"./vdp_smt/*/*\"), './data/yolo_processed')\n",
    "\n"
   ]
  },
  {
   "cell_type": "code",
   "execution_count": 86,
   "metadata": {},
   "outputs": [],
   "source": [
    "centroid = lambda bb : ((int(bb[0]) + int(bb[2])) / 2, (int(bb[1]) + int(bb[3])) / 2)\n",
    "\n",
    "\n",
    "def relate(c1, c2): # where is c1 w.r.t c2\n",
    "    x1, y1 = c1\n",
    "    x2, y2 = c2\n",
    "    \n",
    "    return [\"right\" if x1 >= x2 else \"left\", \"above\" if y1 >= y2 else \"below\"]\n",
    "\n",
    "output_dir = \"./data/yolo_fo_models\"\n",
    "key = '2on1_ace-b123'\n",
    "val = data[key]\n",
    "\n",
    "# for img in val:\n",
    "#     folder = \n",
    "    \n",
    "for name, data in val:\n",
    "    batch = name.split(\"_\")[0]\n",
    "    os.makedirs(f\"{output_dir}/{key}/{batch}\", exist_ok=True)\n",
    "    output_json = f\"{output_dir}/{key}/{batch}/{name}.json\"\n",
    "    \n",
    "    img_data = data\n",
    "    \n",
    "    "
   ]
  },
  {
   "cell_type": "code",
   "execution_count": 119,
   "metadata": {},
   "outputs": [
    {
     "data": {
      "text/plain": [
       "[['obj', 'sofa', 'obj', 'cat', 'left_above', 0.6272],\n",
       " ['obj', 'cat', 'obj', 'sofa', 'right_below', 0.6272]]"
      ]
     },
     "execution_count": 119,
     "metadata": {},
     "output_type": "execute_result"
    }
   ],
   "source": [
    "\n",
    "\n",
    "centroid = lambda bb : ((int(bb[0]) + int(bb[2])) / 2, (int(bb[1]) + int(bb[3])) / 2)\n",
    "dist = lambda c1, c2 : ((c1[0] - c2[0])**2 + (c1[1] - c2[1])**2)**0.5\n",
    "\n",
    "def relate(c1, c2): # where is c1 w.r.t c2\n",
    "    x1, y1 = c1\n",
    "    x2, y2 = c2\n",
    "    \n",
    "    return [\"right\" if x1 >= x2 else \"left\", \"above\" if y1 >= y2 else \"below\"]\n",
    "\n",
    "\n",
    "\n",
    "\n",
    "labels = [obj + \"_label\" for obj in img_data.keys()]\n",
    "\n",
    "rel_labels = list()\n",
    "for obj1, obj_data1 in img_data.items():\n",
    "    for obj2, obj_data2 in img_data.items():\n",
    "        if obj1 != obj2:\n",
    "            c1 = centroid(obj_data1['bb'])\n",
    "            c2 = centroid(obj_data2['bb'])\n",
    "            rel_labels.append(['obj', obj1, 'obj', obj2, \"_\".join(relate(c1, c2)), obj_data1['score'] * obj_data2['score'] * 1e-4])\n",
    "\n",
    "\n",
    "\n",
    "rel_labels"
   ]
  },
  {
   "cell_type": "code",
   "execution_count": 132,
   "metadata": {},
   "outputs": [
    {
     "data": {
      "text/plain": [
       "{'sorts': ['object', 'label', 'scores'],\n",
       " 'predicates': {'left_above': '(object, object)',\n",
       "  'right_below': '(object, object)',\n",
       "  'has label': '(object, label)',\n",
       "  'has score': '(object, object, score)'},\n",
       " 'elements': {'object': ['obj_cat', 'obj_sofa'],\n",
       "  'label': ['sofa', 'cat'],\n",
       "  'scores': [0.6272, 0.6272]},\n",
       " 'interpretation': {'left_above': [('obj_sofa', 'obj_cat')],\n",
       "  'right_below': [('obj_cat', 'obj_sofa')],\n",
       "  'has label': [('obj_sofa', 'sofa'), ('obj_cat', 'cat')],\n",
       "  'has score': [('obj_sofa', 'obj_cat', 0.6272),\n",
       "   ('obj_cat', 'obj_sofa', 0.6272)]},\n",
       " 'raw': [['obj', 'sofa', 'obj', 'cat', 'left_above', 0.6272],\n",
       "  ['obj', 'cat', 'obj', 'sofa', 'right_below', 0.6272]]}"
      ]
     },
     "execution_count": 132,
     "metadata": {},
     "output_type": "execute_result"
    }
   ],
   "source": []
  },
  {
   "cell_type": "code",
   "execution_count": 7,
   "metadata": {},
   "outputs": [
    {
     "data": {
      "text/plain": [
       "{('bed', 'bed'): ['labelOf'],\n",
       " ('bed', 'sofa'): ['right', 'above'],\n",
       " ('bed', 'cat'): ['left', 'above'],\n",
       " ('sofa', 'bed'): ['left', 'below'],\n",
       " ('sofa', 'sofa'): ['labelOf'],\n",
       " ('sofa', 'cat'): ['left', 'above'],\n",
       " ('cat', 'bed'): ['right', 'below'],\n",
       " ('cat', 'sofa'): ['right', 'below'],\n",
       " ('cat', 'cat'): ['labelOf']}"
      ]
     },
     "execution_count": 7,
     "metadata": {},
     "output_type": "execute_result"
    }
   ],
   "source": [
    "\n",
    "relations = {}\n",
    "for label1, pred1, bb1 in img_params:\n",
    "    for label2, pred2, bb2 in img_params:\n",
    "        if label1 != label2:\n",
    "            c1 = centroid(bb1)\n",
    "            c2 = centroid(bb2)\n",
    "            relations[(label1, label2)] = relate(c1, c2)\n",
    "        else:\n",
    "            relations[(label1, label2)] = ['labelOf']\n",
    "            \n",
    "labels, preds, bbs = zip(*img_params)\n",
    "\n",
    "relations\n"
   ]
  },
  {
   "cell_type": "code",
   "execution_count": 8,
   "metadata": {},
   "outputs": [],
   "source": [
    "vdpobject = FOSort('Object')\n",
    "vdplabel = FOSort('Label')\n",
    "vdpbool = FOSort('Bool')\n"
   ]
  },
  {
   "cell_type": "code",
   "execution_count": 9,
   "metadata": {},
   "outputs": [],
   "source": [
    "vdpconstants = dict()\n",
    "for label in labels:\n",
    "    if label not in vdpconstants:\n",
    "        vdpconstants[label] = FOFunction(label, tuple([vdplabel]))\n",
    "    \n",
    "    \n",
    "unique_labels = list(vdpconstants.keys()) # @TODO REPLACE!!!!\n"
   ]
  },
  {
   "cell_type": "code",
   "execution_count": 10,
   "metadata": {},
   "outputs": [
    {
     "data": {
      "text/plain": [
       "{'left': <vdp.vocabulary.FOFunction at 0x10889af10>,\n",
       " 'right': <vdp.vocabulary.FOFunction at 0x10889a250>,\n",
       " 'above': <vdp.vocabulary.FOFunction at 0x10889ab90>,\n",
       " 'below': <vdp.vocabulary.FOFunction at 0x10889a790>,\n",
       " 'labelOf': <vdp.vocabulary.FOFunction at 0x10889ad10>}"
      ]
     },
     "execution_count": 10,
     "metadata": {},
     "output_type": "execute_result"
    }
   ],
   "source": [
    "# on = FOFunction('On', (vdpobject, vdpobject, vdpbool))\n",
    "relation_labels = ['left', 'right', 'above', 'below']\n",
    "vdprelations = dict()\n",
    "\n",
    "for rl in relation_labels:\n",
    "    vdprelations[rl] = FOFunction(rl, (vdpobject, vdpobject, vdpbool))\n",
    "\n",
    "\n",
    "vdprelations['labelOf'] = FOFunction('labelOf', (vdpobject, vdplabel, vdpbool))\n",
    "vdprelations"
   ]
  },
  {
   "cell_type": "code",
   "execution_count": 11,
   "metadata": {},
   "outputs": [],
   "source": [
    "vdpvocabulary = (set([vdpobject, vdplabel]), set(list(vdpconstants.values()) + list(vdprelations.values())))\n"
   ]
  },
  {
   "cell_type": "code",
   "execution_count": 12,
   "metadata": {},
   "outputs": [],
   "source": [
    "vdpobjects = {label : FOElement(label + \"_object\", vdpobject) for label in labels}\n",
    "vdplabels = {label : FOElement(label + \"_label\", vdplabel) for label in unique_labels}\n",
    "\n",
    "vdpelements = {'Object': set(vdpobjects.values()), 'Label': set(vdplabels.values())}"
   ]
  },
  {
   "cell_type": "code",
   "execution_count": 13,
   "metadata": {},
   "outputs": [
    {
     "data": {
      "text/plain": [
       "{<vdp.vocabulary.FOFunction at 0x10889a650>: <vdp.fomodel.FOElement at 0x111a026d0>,\n",
       " <vdp.vocabulary.FOFunction at 0x10889a2d0>: <vdp.fomodel.FOElement at 0x111a02810>,\n",
       " <vdp.vocabulary.FOFunction at 0x10889a510>: <vdp.fomodel.FOElement at 0x111a02910>}"
      ]
     },
     "execution_count": 13,
     "metadata": {},
     "output_type": "execute_result"
    }
   ],
   "source": [
    "labelconst_interpretation = {const : vdplabels[label] for label, const in zip(unique_labels, list(vdpconstants.values()))}\n",
    "labelconst_interpretation"
   ]
  },
  {
   "cell_type": "code",
   "execution_count": 14,
   "metadata": {},
   "outputs": [
    {
     "data": {
      "text/plain": [
       "{<vdp.vocabulary.FOFunction at 0x10889ad10>: {(<vdp.fomodel.FOElement at 0x111a02610>,\n",
       "   <vdp.fomodel.FOElement at 0x111a026d0>): True,\n",
       "  (<vdp.fomodel.FOElement at 0x111a02610>,\n",
       "   <vdp.fomodel.FOElement at 0x111a02810>): False,\n",
       "  (<vdp.fomodel.FOElement at 0x111a02610>,\n",
       "   <vdp.fomodel.FOElement at 0x111a02910>): False,\n",
       "  (<vdp.fomodel.FOElement at 0x111a02710>,\n",
       "   <vdp.fomodel.FOElement at 0x111a026d0>): False,\n",
       "  (<vdp.fomodel.FOElement at 0x111a02710>,\n",
       "   <vdp.fomodel.FOElement at 0x111a02810>): True,\n",
       "  (<vdp.fomodel.FOElement at 0x111a02710>,\n",
       "   <vdp.fomodel.FOElement at 0x111a02910>): False,\n",
       "  (<vdp.fomodel.FOElement at 0x111a02790>,\n",
       "   <vdp.fomodel.FOElement at 0x111a026d0>): False,\n",
       "  (<vdp.fomodel.FOElement at 0x111a02790>,\n",
       "   <vdp.fomodel.FOElement at 0x111a02810>): False,\n",
       "  (<vdp.fomodel.FOElement at 0x111a02790>,\n",
       "   <vdp.fomodel.FOElement at 0x111a02910>): True}}"
      ]
     },
     "execution_count": 14,
     "metadata": {},
     "output_type": "execute_result"
    }
   ],
   "source": [
    "\n",
    "    \n",
    "\n",
    "rel_interpretation = dict()\n",
    "# for rel_sym, rel in vdprelations.items():\n",
    "#     if 'labelOf' in rel_sym:\n",
    "#         rel_interpretation[rel] = {(obj, lab) : rel_sym in relations[(obj_sym, lab_sym)]  for obj_sym, obj in vdpobjects.items() for lab_sym, lab in vdplabels.items()}\n",
    "#     else:\n",
    "#         rel_interpretation[rel] = {(obj1, obj2) : rel_sym in relations[(obj1_sym, obj2_sym)]  for obj1_sym, obj1 in vdpobjects.items() for obj2_sym, obj2 in vdpobjects.items() if obj1_sym != obj2_sym}\n",
    "\n",
    "        \n",
    "rel_interpretation[vdprelations['labelOf']] = {(obj, lab) : 'labelOf' in relations[(obj_sym, lab_sym)]  for obj_sym, obj in vdpobjects.items() for lab_sym, lab in vdplabels.items()}\n",
    "\n",
    "\n",
    "rel_interpretation"
   ]
  },
  {
   "cell_type": "code",
   "execution_count": 15,
   "metadata": {},
   "outputs": [],
   "source": [
    "vdpinterpretation = {**labelconst_interpretation, **rel_interpretation}\n"
   ]
  },
  {
   "cell_type": "code",
   "execution_count": 16,
   "metadata": {},
   "outputs": [],
   "source": [
    "model = FOModel(vdpvocabulary, vdpelements, vdpinterpretation)\n"
   ]
  },
  {
   "cell_type": "code",
   "execution_count": 17,
   "metadata": {},
   "outputs": [
    {
     "data": {
      "text/plain": [
       "True"
      ]
     },
     "execution_count": 17,
     "metadata": {},
     "output_type": "execute_result"
    }
   ],
   "source": [
    "tst = FOElement('x', vdpobject)\n",
    "model.interpret(term=[vdprelations['labelOf'], [tst], [vdpconstants['cat']]], interpretation_extension={tst: vdpobjects['cat']})"
   ]
  },
  {
   "cell_type": "code",
   "execution_count": 49,
   "metadata": {},
   "outputs": [],
   "source": []
  },
  {
   "cell_type": "code",
   "execution_count": 52,
   "metadata": {},
   "outputs": [],
   "source": []
  },
  {
   "cell_type": "code",
   "execution_count": null,
   "metadata": {},
   "outputs": [],
   "source": []
  }
 ],
 "metadata": {
  "kernelspec": {
   "display_name": "Python 3",
   "language": "python",
   "name": "python3"
  },
  "language_info": {
   "codemirror_mode": {
    "name": "ipython",
    "version": 3
   },
   "file_extension": ".py",
   "mimetype": "text/x-python",
   "name": "python",
   "nbconvert_exporter": "python",
   "pygments_lexer": "ipython3",
   "version": "3.7.6"
  }
 },
 "nbformat": 4,
 "nbformat_minor": 4
}
